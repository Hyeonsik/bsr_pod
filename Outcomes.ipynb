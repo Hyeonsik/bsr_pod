{
 "cells": [
  {
   "cell_type": "code",
   "execution_count": 1,
   "id": "7c8eb4f7-ebd1-492e-9a48-289184cc3a1d",
   "metadata": {
    "execution": {
     "iopub.execute_input": "2023-08-22T04:14:38.050833Z",
     "iopub.status.busy": "2023-08-22T04:14:38.050303Z",
     "iopub.status.idle": "2023-08-22T04:14:51.436142Z",
     "shell.execute_reply": "2023-08-22T04:14:51.435534Z",
     "shell.execute_reply.started": "2023-08-22T04:14:38.050709Z"
    },
    "tags": []
   },
   "outputs": [
    {
     "data": {
      "text/plain": [
       "25718"
      ]
     },
     "execution_count": 1,
     "metadata": {},
     "output_type": "execute_result"
    }
   ],
   "source": [
    "import os\n",
    "import pickle\n",
    "import pandas as pd\n",
    "import numpy as np\n",
    "import vitaldb\n",
    "import time\n",
    "from tqdm import tqdm\n",
    "from datetime import datetime, timedelta\n",
    "\n",
    "\n",
    "vpath = '/mnt/01_research/07_delirium'\n",
    "savepath = '/home/painstudy/bsr_pod/vital_addevent'\n",
    "vlist = os.listdir(vpath)\n",
    "info = [v for v in vlist if '.vital' not in v][0]\n",
    "info = pd.read_excel(os.path.join(vpath, info))\n",
    "\n",
    "vlist = [v for v in vlist if '.vital' in v]\n",
    "for item in ('ane.start', 'op.start', 'op.end', 'ane.end'):\n",
    "    info[item] = pd.to_datetime(info[item]) #- timedelta(hours=9)\n",
    "    info[f'{item}.ts'] = info[item].apply(lambda x: time.mktime(x.timetuple()))\n",
    "    \n",
    "len(vlist)"
   ]
  },
  {
   "cell_type": "markdown",
   "id": "0566ca17-4541-4669-841b-3660868b37d0",
   "metadata": {},
   "source": [
    "# Loading data"
   ]
  },
  {
   "cell_type": "code",
   "execution_count": null,
   "id": "78042d4d-b623-4648-8016-fd16adae3d70",
   "metadata": {},
   "outputs": [],
   "source": [
    "import pandas as pd\n",
    "import numpy as np\n",
    "import os\n",
    "\n",
    "df_data = pd.DataFrame([], columns=['fileid', 'bis', 'anes', 'anes_type', 'a_num'])\n",
    "\n",
    "file = 'total-112.pkl'\n",
    "rayget = pickle.load(open(f'tmp/{file}','rb'))\n",
    "#rayget2 = np.concatenate((np.array(rayget)[:,0:4], np.array(rayget)[:,5:7]), axis=-1)\n",
    "\n",
    "for ray in tqdm(rayget):\n",
    "    for i in range(len(ray[0])):\n",
    "        df_data = df_data.append({'fileid': ray[0][i], 'bis': ray[1][i], 'anes': ray[2][i], 'bsr': ray[3][i], 'ane_track': np.array(ray[4][i][:,0], dtype=float), \n",
    "                                  'bis_track': np.array(ray[4][i][:,1], dtype=float), 'bsr_track': np.array(ray[4][i][:,2], dtype=float), 'anes_type': ray[5][i], 'a_num': ray[6][i]}, ignore_index=True)\n",
    "\n",
    "# output 추가\n",
    "df_info = pd.read_csv('info.csv')\n",
    "df_data['POD'] = df_data['fileid'].apply(lambda x: df_info[df_info['fileid'] == x]['delirium.keyword.new'].values[0])\n",
    "df_data['intercept'] = 1\n",
    "\n",
    "# save\n",
    "pickle.dump(df_data, open('df_data.pkl','wb'))\n",
    "#df_data.to_csv('df_data.csv')     \n",
    "df_data"
   ]
  },
  {
   "cell_type": "markdown",
   "id": "f5d10a2a-7973-4825-a5d7-6529eb16594a",
   "metadata": {},
   "source": [
    "## Loading saved data"
   ]
  },
  {
   "cell_type": "code",
   "execution_count": 2,
   "id": "833ba1aa-d8cc-4b99-b7bd-f7ca70e7717f",
   "metadata": {
    "execution": {
     "iopub.execute_input": "2023-08-30T02:22:06.910043Z",
     "iopub.status.busy": "2023-08-30T02:22:06.909508Z",
     "iopub.status.idle": "2023-08-30T02:22:14.177843Z",
     "shell.execute_reply": "2023-08-30T02:22:14.177293Z",
     "shell.execute_reply.started": "2023-08-30T02:22:06.909993Z"
    },
    "tags": []
   },
   "outputs": [
    {
     "data": {
      "text/html": [
       "<div>\n",
       "<style scoped>\n",
       "    .dataframe tbody tr th:only-of-type {\n",
       "        vertical-align: middle;\n",
       "    }\n",
       "\n",
       "    .dataframe tbody tr th {\n",
       "        vertical-align: top;\n",
       "    }\n",
       "\n",
       "    .dataframe thead th {\n",
       "        text-align: right;\n",
       "    }\n",
       "</style>\n",
       "<table border=\"1\" class=\"dataframe\">\n",
       "  <thead>\n",
       "    <tr style=\"text-align: right;\">\n",
       "      <th></th>\n",
       "      <th>fileid</th>\n",
       "      <th>bis</th>\n",
       "      <th>anes</th>\n",
       "      <th>anes_type</th>\n",
       "      <th>a_num</th>\n",
       "      <th>ane_track</th>\n",
       "      <th>bis_track</th>\n",
       "      <th>bsr</th>\n",
       "      <th>bsr_track</th>\n",
       "      <th>POD</th>\n",
       "      <th>intercept</th>\n",
       "    </tr>\n",
       "  </thead>\n",
       "  <tbody>\n",
       "    <tr>\n",
       "      <th>0</th>\n",
       "      <td>R10_200311_134656.vital</td>\n",
       "      <td>True</td>\n",
       "      <td>[Datex-Ohmeda/ET_AGENT1]</td>\n",
       "      <td>SEVO</td>\n",
       "      <td>1</td>\n",
       "      <td>[2.0, nan, 2.5999999046325684, nan, 2.79999995...</td>\n",
       "      <td>[49.70000076293945, 48.900001525878906, 49.299...</td>\n",
       "      <td>[BIS/SR]</td>\n",
       "      <td>[0.0, 0.0, 0.0, 0.0, 0.0, 0.0, 0.0, 0.0, 0.0, ...</td>\n",
       "      <td>0</td>\n",
       "      <td>1</td>\n",
       "    </tr>\n",
       "    <tr>\n",
       "      <th>1</th>\n",
       "      <td>A5_190718_075007.vital</td>\n",
       "      <td>True</td>\n",
       "      <td>[Primus/EXP_SEVO]</td>\n",
       "      <td>SEVO</td>\n",
       "      <td>1</td>\n",
       "      <td>[2.0999999046325684, nan, nan, nan, nan, nan, ...</td>\n",
       "      <td>[73.0999984741211, 74.4000015258789, 72.800003...</td>\n",
       "      <td>[BIS/SR]</td>\n",
       "      <td>[0.0, 0.0, 0.0, 0.0, 0.0, 0.0, 0.0, 0.0, 0.0, ...</td>\n",
       "      <td>0</td>\n",
       "      <td>1</td>\n",
       "    </tr>\n",
       "    <tr>\n",
       "      <th>2</th>\n",
       "      <td>R9_200706_074752.vital</td>\n",
       "      <td>True</td>\n",
       "      <td>[Primus/EXP_SEVO]</td>\n",
       "      <td>SEVO</td>\n",
       "      <td>1</td>\n",
       "      <td>[0.800000011920929, nan, nan, nan, nan, nan, n...</td>\n",
       "      <td>[72.0999984741211, 72.4000015258789, 73.5, 74....</td>\n",
       "      <td>[BIS/SR]</td>\n",
       "      <td>[0.0, 0.0, 0.0, 0.0, 0.0, 0.0, 0.0, 0.0, 0.0, ...</td>\n",
       "      <td>0</td>\n",
       "      <td>1</td>\n",
       "    </tr>\n",
       "    <tr>\n",
       "      <th>3</th>\n",
       "      <td>D4_200717_100153.vital</td>\n",
       "      <td>True</td>\n",
       "      <td>[Datex-Ohmeda/ET_AGENT1]</td>\n",
       "      <td>SEVO</td>\n",
       "      <td>1</td>\n",
       "      <td>[1.899999976158142, nan, 1.2000000476837158, 1...</td>\n",
       "      <td>[nan, 45.29999923706055, 45.400001525878906, 4...</td>\n",
       "      <td>[BIS/SR]</td>\n",
       "      <td>[nan, 0.0, 0.0, 0.0, 0.0, 0.0, 0.0, 0.0, 0.0, ...</td>\n",
       "      <td>0</td>\n",
       "      <td>1</td>\n",
       "    </tr>\n",
       "    <tr>\n",
       "      <th>4</th>\n",
       "      <td>E5_200205_133523.vital</td>\n",
       "      <td>True</td>\n",
       "      <td>[Primus/EXP_SEVO]</td>\n",
       "      <td>SEVO</td>\n",
       "      <td>1</td>\n",
       "      <td>[1.2000000476837158, nan, nan, nan, nan, nan, ...</td>\n",
       "      <td>[44.70000076293945, 44.70000076293945, 45.2000...</td>\n",
       "      <td>[BIS/SR]</td>\n",
       "      <td>[0.0, 0.0, 0.0, 0.0, 0.0, 0.0, 0.0, 0.0, 0.0, ...</td>\n",
       "      <td>0</td>\n",
       "      <td>1</td>\n",
       "    </tr>\n",
       "    <tr>\n",
       "      <th>...</th>\n",
       "      <td>...</td>\n",
       "      <td>...</td>\n",
       "      <td>...</td>\n",
       "      <td>...</td>\n",
       "      <td>...</td>\n",
       "      <td>...</td>\n",
       "      <td>...</td>\n",
       "      <td>...</td>\n",
       "      <td>...</td>\n",
       "      <td>...</td>\n",
       "      <td>...</td>\n",
       "    </tr>\n",
       "    <tr>\n",
       "      <th>11509</th>\n",
       "      <td>A2_191017_101910.vital</td>\n",
       "      <td>True</td>\n",
       "      <td>[Orchestra/PPF20_CE]</td>\n",
       "      <td>PPF</td>\n",
       "      <td>1</td>\n",
       "      <td>[0.2150000035762787, 0.367000013589859, 0.4070...</td>\n",
       "      <td>[97.4000015258789, 97.4000015258789, 97.400001...</td>\n",
       "      <td>[BIS/SR]</td>\n",
       "      <td>[0.0, 0.0, 0.0, 0.0, 0.0, 0.0, 0.0, 0.0, 0.0, ...</td>\n",
       "      <td>0</td>\n",
       "      <td>1</td>\n",
       "    </tr>\n",
       "    <tr>\n",
       "      <th>11510</th>\n",
       "      <td>A5_190104_074655.vital</td>\n",
       "      <td>True</td>\n",
       "      <td>[Primus/EXP_SEVO]</td>\n",
       "      <td>SEVO</td>\n",
       "      <td>1</td>\n",
       "      <td>[0.20000000298023224, nan, nan, nan, nan, nan,...</td>\n",
       "      <td>[nan, nan, nan, nan, nan, 85.0999984741211, 85...</td>\n",
       "      <td>[BIS/SR]</td>\n",
       "      <td>[nan, nan, nan, nan, nan, 0.0, 0.0, 0.0, 0.0, ...</td>\n",
       "      <td>0</td>\n",
       "      <td>1</td>\n",
       "    </tr>\n",
       "    <tr>\n",
       "      <th>11511</th>\n",
       "      <td>A4_190411_085050.vital</td>\n",
       "      <td>True</td>\n",
       "      <td>[Datex-Ohmeda/ET_AGENT1]</td>\n",
       "      <td>SEVO</td>\n",
       "      <td>1</td>\n",
       "      <td>[1.600000023841858, nan, 1.2999999523162842, n...</td>\n",
       "      <td>[82.69999694824219, 77.0, 64.80000305175781, 5...</td>\n",
       "      <td>[BIS/SR]</td>\n",
       "      <td>[0.0, 0.0, 0.0, 0.0, 0.0, 0.0, 0.0, 0.0, 0.0, ...</td>\n",
       "      <td>0</td>\n",
       "      <td>1</td>\n",
       "    </tr>\n",
       "    <tr>\n",
       "      <th>11512</th>\n",
       "      <td>A2_191211_113926.vital</td>\n",
       "      <td>True</td>\n",
       "      <td>[Orchestra/PPF20_CE]</td>\n",
       "      <td>PPF</td>\n",
       "      <td>1</td>\n",
       "      <td>[0.2460000067949295, 0.3179999887943268, 0.453...</td>\n",
       "      <td>[97.70000457763672, 97.70000457763672, 97.7000...</td>\n",
       "      <td>[BIS/SR]</td>\n",
       "      <td>[0.0, 0.0, 0.0, 0.0, 0.0, 0.0, 0.0, 0.0, 0.0, ...</td>\n",
       "      <td>0</td>\n",
       "      <td>1</td>\n",
       "    </tr>\n",
       "    <tr>\n",
       "      <th>11513</th>\n",
       "      <td>A5_190128_095052.vital</td>\n",
       "      <td>True</td>\n",
       "      <td>[Primus/EXP_SEVO]</td>\n",
       "      <td>SEVO</td>\n",
       "      <td>1</td>\n",
       "      <td>[5.199999809265137, nan, nan, nan, nan, nan, n...</td>\n",
       "      <td>[72.4000015258789, 72.30000305175781, 72.40000...</td>\n",
       "      <td>[BIS/SR]</td>\n",
       "      <td>[0.0, 0.0, 0.0, 0.0, 0.0, 0.0, 0.0, 0.0, 0.0, ...</td>\n",
       "      <td>0</td>\n",
       "      <td>1</td>\n",
       "    </tr>\n",
       "  </tbody>\n",
       "</table>\n",
       "<p>11514 rows × 11 columns</p>\n",
       "</div>"
      ],
      "text/plain": [
       "                        fileid   bis                      anes anes_type  \\\n",
       "0      R10_200311_134656.vital  True  [Datex-Ohmeda/ET_AGENT1]      SEVO   \n",
       "1       A5_190718_075007.vital  True         [Primus/EXP_SEVO]      SEVO   \n",
       "2       R9_200706_074752.vital  True         [Primus/EXP_SEVO]      SEVO   \n",
       "3       D4_200717_100153.vital  True  [Datex-Ohmeda/ET_AGENT1]      SEVO   \n",
       "4       E5_200205_133523.vital  True         [Primus/EXP_SEVO]      SEVO   \n",
       "...                        ...   ...                       ...       ...   \n",
       "11509   A2_191017_101910.vital  True      [Orchestra/PPF20_CE]       PPF   \n",
       "11510   A5_190104_074655.vital  True         [Primus/EXP_SEVO]      SEVO   \n",
       "11511   A4_190411_085050.vital  True  [Datex-Ohmeda/ET_AGENT1]      SEVO   \n",
       "11512   A2_191211_113926.vital  True      [Orchestra/PPF20_CE]       PPF   \n",
       "11513   A5_190128_095052.vital  True         [Primus/EXP_SEVO]      SEVO   \n",
       "\n",
       "      a_num                                          ane_track  \\\n",
       "0         1  [2.0, nan, 2.5999999046325684, nan, 2.79999995...   \n",
       "1         1  [2.0999999046325684, nan, nan, nan, nan, nan, ...   \n",
       "2         1  [0.800000011920929, nan, nan, nan, nan, nan, n...   \n",
       "3         1  [1.899999976158142, nan, 1.2000000476837158, 1...   \n",
       "4         1  [1.2000000476837158, nan, nan, nan, nan, nan, ...   \n",
       "...     ...                                                ...   \n",
       "11509     1  [0.2150000035762787, 0.367000013589859, 0.4070...   \n",
       "11510     1  [0.20000000298023224, nan, nan, nan, nan, nan,...   \n",
       "11511     1  [1.600000023841858, nan, 1.2999999523162842, n...   \n",
       "11512     1  [0.2460000067949295, 0.3179999887943268, 0.453...   \n",
       "11513     1  [5.199999809265137, nan, nan, nan, nan, nan, n...   \n",
       "\n",
       "                                               bis_track       bsr  \\\n",
       "0      [49.70000076293945, 48.900001525878906, 49.299...  [BIS/SR]   \n",
       "1      [73.0999984741211, 74.4000015258789, 72.800003...  [BIS/SR]   \n",
       "2      [72.0999984741211, 72.4000015258789, 73.5, 74....  [BIS/SR]   \n",
       "3      [nan, 45.29999923706055, 45.400001525878906, 4...  [BIS/SR]   \n",
       "4      [44.70000076293945, 44.70000076293945, 45.2000...  [BIS/SR]   \n",
       "...                                                  ...       ...   \n",
       "11509  [97.4000015258789, 97.4000015258789, 97.400001...  [BIS/SR]   \n",
       "11510  [nan, nan, nan, nan, nan, 85.0999984741211, 85...  [BIS/SR]   \n",
       "11511  [82.69999694824219, 77.0, 64.80000305175781, 5...  [BIS/SR]   \n",
       "11512  [97.70000457763672, 97.70000457763672, 97.7000...  [BIS/SR]   \n",
       "11513  [72.4000015258789, 72.30000305175781, 72.40000...  [BIS/SR]   \n",
       "\n",
       "                                               bsr_track  POD  intercept  \n",
       "0      [0.0, 0.0, 0.0, 0.0, 0.0, 0.0, 0.0, 0.0, 0.0, ...    0          1  \n",
       "1      [0.0, 0.0, 0.0, 0.0, 0.0, 0.0, 0.0, 0.0, 0.0, ...    0          1  \n",
       "2      [0.0, 0.0, 0.0, 0.0, 0.0, 0.0, 0.0, 0.0, 0.0, ...    0          1  \n",
       "3      [nan, 0.0, 0.0, 0.0, 0.0, 0.0, 0.0, 0.0, 0.0, ...    0          1  \n",
       "4      [0.0, 0.0, 0.0, 0.0, 0.0, 0.0, 0.0, 0.0, 0.0, ...    0          1  \n",
       "...                                                  ...  ...        ...  \n",
       "11509  [0.0, 0.0, 0.0, 0.0, 0.0, 0.0, 0.0, 0.0, 0.0, ...    0          1  \n",
       "11510  [nan, nan, nan, nan, nan, 0.0, 0.0, 0.0, 0.0, ...    0          1  \n",
       "11511  [0.0, 0.0, 0.0, 0.0, 0.0, 0.0, 0.0, 0.0, 0.0, ...    0          1  \n",
       "11512  [0.0, 0.0, 0.0, 0.0, 0.0, 0.0, 0.0, 0.0, 0.0, ...    0          1  \n",
       "11513  [0.0, 0.0, 0.0, 0.0, 0.0, 0.0, 0.0, 0.0, 0.0, ...    0          1  \n",
       "\n",
       "[11514 rows x 11 columns]"
      ]
     },
     "execution_count": 2,
     "metadata": {},
     "output_type": "execute_result"
    }
   ],
   "source": [
    "import pandas as pd\n",
    "import numpy as np\n",
    "import pickle\n",
    "\n",
    "#df_data = pd.read_csv('df_data.csv')\n",
    "df_data = pickle.load(open('df_data.pkl', 'rb'))\n",
    "df_data['intercept'] = 1\n",
    "df_data"
   ]
  },
  {
   "cell_type": "markdown",
   "id": "4324f74c-2cc0-490d-a0e7-221cc0f69301",
   "metadata": {
    "jp-MarkdownHeadingCollapsed": true,
    "tags": []
   },
   "source": [
    "# Validation"
   ]
  },
  {
   "cell_type": "markdown",
   "id": "0777c58b-df6d-4f1b-a14c-be9776519bf4",
   "metadata": {},
   "source": [
    "## BSR track"
   ]
  },
  {
   "cell_type": "code",
   "execution_count": 90,
   "id": "46c90c7b-7a11-48cb-be9c-f4a1f76e8155",
   "metadata": {
    "execution": {
     "iopub.execute_input": "2023-08-20T03:51:15.239494Z",
     "iopub.status.busy": "2023-08-20T03:51:15.239002Z",
     "iopub.status.idle": "2023-08-20T03:51:15.425578Z",
     "shell.execute_reply": "2023-08-20T03:51:15.424894Z",
     "shell.execute_reply.started": "2023-08-20T03:51:15.239446Z"
    },
    "tags": []
   },
   "outputs": [
    {
     "data": {
      "text/plain": [
       "(array([1.151e+04, 0.000e+00, 0.000e+00, 0.000e+00, 0.000e+00, 1.000e+00,\n",
       "        0.000e+00, 0.000e+00, 0.000e+00, 3.000e+00]),\n",
       " array([0. , 0.2, 0.4, 0.6, 0.8, 1. , 1.2, 1.4, 1.6, 1.8, 2. ]),\n",
       " <BarContainer object of 10 artists>)"
      ]
     },
     "execution_count": 90,
     "metadata": {},
     "output_type": "execute_result"
    },
    {
     "data": {
      "image/png": "[encoded data removed]",
      "text/plain": [
       "<Figure size 432x288 with 1 Axes>"
      ]
     },
     "metadata": {
      "needs_background": "light"
     },
     "output_type": "display_data"
    }
   ],
   "source": [
    "bsr_name = [ele[0] for ele in df_data['bsr'].values]\n",
    "plt.hist(bsr_name)"
   ]
  },
  {
   "cell_type": "code",
   "execution_count": 92,
   "id": "099567e9-c7b9-4a8b-8a49-2b2f18a5598d",
   "metadata": {
    "execution": {
     "iopub.execute_input": "2023-08-20T03:53:05.556103Z",
     "iopub.status.busy": "2023-08-20T03:53:05.555689Z",
     "iopub.status.idle": "2023-08-20T03:53:05.562413Z",
     "shell.execute_reply": "2023-08-20T03:53:05.561768Z",
     "shell.execute_reply.started": "2023-08-20T03:53:05.556065Z"
    },
    "tags": []
   },
   "outputs": [
    {
     "data": {
      "text/plain": [
       "(1, 3)"
      ]
     },
     "execution_count": 92,
     "metadata": {},
     "output_type": "execute_result"
    }
   ],
   "source": [
    "bsr_name.count('Intellivue/EEG_RATIO_SUPPRN'), bsr_name.count('ROOT/SR')"
   ]
  },
  {
   "cell_type": "code",
   "execution_count": 117,
   "id": "eeb64181-772e-4280-a51f-54bc4b250d2d",
   "metadata": {
    "execution": {
     "iopub.execute_input": "2023-08-20T04:48:41.579951Z",
     "iopub.status.busy": "2023-08-20T04:48:41.579461Z",
     "iopub.status.idle": "2023-08-20T04:48:41.740270Z",
     "shell.execute_reply": "2023-08-20T04:48:41.739733Z",
     "shell.execute_reply.started": "2023-08-20T04:48:41.579902Z"
    },
    "tags": []
   },
   "outputs": [
    {
     "data": {
      "text/plain": [
       "Text(0, 0.5, 'bin')"
      ]
     },
     "execution_count": 117,
     "metadata": {},
     "output_type": "execute_result"
    },
    {
     "data": {
      "image/png": "[encoded data removed]",
      "text/plain": [
       "<Figure size 432x288 with 1 Axes>"
      ]
     },
     "metadata": {
      "needs_background": "light"
     },
     "output_type": "display_data"
    }
   ],
   "source": [
    "bsr_max = df_data['bsr_track'].apply(lambda x: np.nanmax(x[x<=100])).values\n",
    "\n",
    "plt.hist(bsr_max[bsr_max<=100], bins=20)\n",
    "plt.xlabel('max(BSR)')\n",
    "plt.ylabel('bin')"
   ]
  },
  {
   "cell_type": "markdown",
   "id": "b8455147-f4fc-43f2-8226-37fba814bbae",
   "metadata": {},
   "source": [
    "## Event checking"
   ]
  },
  {
   "cell_type": "code",
   "execution_count": 102,
   "id": "dc1e3c25-6bd5-4a19-a993-01adfa2d56a8",
   "metadata": {
    "execution": {
     "iopub.execute_input": "2023-08-20T04:32:32.918012Z",
     "iopub.status.busy": "2023-08-20T04:32:32.917513Z",
     "iopub.status.idle": "2023-08-20T04:32:38.535445Z",
     "shell.execute_reply": "2023-08-20T04:32:38.534656Z",
     "shell.execute_reply.started": "2023-08-20T04:32:32.917965Z"
    },
    "tags": []
   },
   "outputs": [],
   "source": [
    "ane_trks = np.array(['Orchestra/PPF20_CE', 'Primus/EXP_SEVO', 'Primus/EXP_DES','Datex-Ohmeda/ET_AGENT1', 'Datex-Ohmeda/ET_AGENT2'])\n",
    "ane_thres = np.array([0.2, 0.2, 1, 0.2, 0.2])\n",
    "bsr_trks = ['Intellivue/EEG_RATIO_SUPPRN', 'BIS/SR', 'ROOT/SR', 'Bx50/BIS_BSR'] \n",
    "\n",
    "\n",
    "FILES, BIS, ANES, BSR = [], [], [], []\n",
    "ANES_TYPE, A_NUM = [], []\n",
    "NPTRACK = []\n",
    "list_bsr2, list_short, list_nval, list_non, list_err = [], [], [], [], []\n",
    "\n",
    "chunk = ['P7_201110_080209.vital']\n",
    "for v in (chunk):\n",
    "\n",
    "    vf = vitaldb.VitalFile(os.path.join(vpath, v))\n",
    "    trks = list(vf.trks.keys())\n",
    "\n",
    "    # check if bis track exists\n",
    "    if 'BIS/BIS' not in trks:\n",
    "        #print(f'{v} - no BIS track')\n",
    "        list_non.append(v)\n",
    "        continue\n",
    "\n",
    "    # track for anesthesia\n",
    "    a_trks = np.array(trks)[np.isin(trks, ane_trks)]\n",
    "    anum = len(a_trks)\n",
    "    if anum == 0:\n",
    "        continue\n",
    "\n",
    "    if len(a_trks) > 1:\n",
    "        # 값이 있는 track을 numpy로 출력\n",
    "        dat = vf.to_numpy(a_trks, 1)\n",
    "\n",
    "        # 값이 전부 0인 track은 제거\n",
    "        a_trks = a_trks[(np.nansum(dat, axis=0)!=0)]\n",
    "        dat = vf.to_numpy(a_trks, 1)\n",
    "\n",
    "        # 깨울 때 쓴 마취 트렉은 제거\n",
    "        idx_start = []\n",
    "        for i in range(dat.shape[1]):\n",
    "            val = np.array(dat[:,i], dtype=float)\n",
    "            idx_start.append(np.where(val>0)[0][0])\n",
    "\n",
    "        a_trks = [a_trks[np.argmin(idx_start)]]\n",
    "\n",
    "    a = a_trks[0]\n",
    "\n",
    "    if 'Datex-Ohmeda' in a:\n",
    "        if 'Sevoflurane' in vf.to_numpy([f'Datex-Ohmeda/{a[-6:]}_NAME'], 1/10).squeeze():\n",
    "            a_name = 'SEVO'\n",
    "        elif 'Desflurane' in vf.to_numpy([f'Datex-Ohmeda/{a[-6:]}_NAME'], 1/10).squeeze():\n",
    "            a_name = 'DES'\n",
    "    else:\n",
    "        a_name = 'PPF' if 'PPF' in a else ('SEVO' if 'SEVO' in a else ('DES' if 'DES' in a else 'NONE'))\n",
    "\n",
    "\n",
    "\n",
    "    # track for bsr\n",
    "    b_trks =np.array(trks)[np.isin(trks, bsr_trks)]\n",
    "    if len(b_trks)>1:\n",
    "        #print(f'{v} - more than one track for bsr')\n",
    "        list_bsr2.append(v)\n",
    "    b = b_trks[0]\n",
    "\n",
    "\n",
    "    record = vf.to_pandas([a,'BIS/BIS', b], 1, return_datetime=True)\n",
    "    times = record[record[a] >= ane_thres[ane_trks==a][0]]['Time'] #- timedelta(hours=9)\n",
    "\n",
    "    # Add Event from ane_trks\n",
    "    start, end = time.mktime(times.iloc[0].timetuple()), time.mktime(times.iloc[-1].timetuple())\n",
    "    \n",
    "    event_recs = []\n",
    "    event_recs.append({'dt': start, 'val': 'ane.start'})\n",
    "    event_recs.append({'dt': end, 'val': 'ane.end'})   \n",
    "    \n",
    "    # Extract the tracks\n",
    "    start, end = times.index[0], times.index[-1]\n",
    "    # 마취 시간이 30분 미만인 경우 제외\n",
    "    if end - start < 30 * 60 * 1:\n",
    "        #print(f'{v} - short anesthesia time')\n",
    "        list_short.append(v)\n",
    "        continue\n",
    "\n",
    "    record = record.loc[start:end][[a,'BIS/BIS', b]]\n",
    "    record['caseNo'] = info[info['fileid'] == v]['caseNo'].iloc[0]\n",
    "\n",
    "\n",
    "    vf.add_track('EVENT', event_recs, mindisp=0, maxdisp=10)\n",
    "    vf.to_vital(os.path.join(savepath, v))"
   ]
  },
  {
   "cell_type": "code",
   "execution_count": 100,
   "id": "7971655f-639b-40cf-94e4-7f79096f2c42",
   "metadata": {
    "execution": {
     "iopub.execute_input": "2023-08-20T04:30:53.671240Z",
     "iopub.status.busy": "2023-08-20T04:30:53.670527Z",
     "iopub.status.idle": "2023-08-20T04:30:53.677460Z",
     "shell.execute_reply": "2023-08-20T04:30:53.676749Z",
     "shell.execute_reply.started": "2023-08-20T04:30:53.671183Z"
    },
    "tags": []
   },
   "outputs": [
    {
     "data": {
      "text/plain": [
       "1604963108.0"
      ]
     },
     "execution_count": 100,
     "metadata": {},
     "output_type": "execute_result"
    }
   ],
   "source": [
    "time.mktime(times.iloc[0].timetuple())"
   ]
  },
  {
   "cell_type": "code",
   "execution_count": 99,
   "id": "b2c77c59-b9ed-45f9-9fc2-1b1ec0ed68f1",
   "metadata": {
    "execution": {
     "iopub.execute_input": "2023-08-20T04:30:03.365096Z",
     "iopub.status.busy": "2023-08-20T04:30:03.364603Z",
     "iopub.status.idle": "2023-08-20T04:30:03.371584Z",
     "shell.execute_reply": "2023-08-20T04:30:03.370932Z",
     "shell.execute_reply.started": "2023-08-20T04:30:03.365026Z"
    },
    "tags": []
   },
   "outputs": [
    {
     "data": {
      "text/plain": [
       "10281"
      ]
     },
     "execution_count": 99,
     "metadata": {},
     "output_type": "execute_result"
    }
   ],
   "source": [
    "end"
   ]
  },
  {
   "cell_type": "markdown",
   "id": "630727ab-c630-492f-ae9d-0f0eabdc1d86",
   "metadata": {},
   "source": [
    "# Plot"
   ]
  },
  {
   "cell_type": "markdown",
   "id": "216dc24a-45d5-44bf-af31-9f70b72df5f5",
   "metadata": {},
   "source": [
    "### scatter plot (variable - POD)"
   ]
  },
  {
   "cell_type": "code",
   "execution_count": 28,
   "id": "d6fe954e-3912-4733-a613-783a93eb3fd0",
   "metadata": {
    "execution": {
     "iopub.execute_input": "2023-08-19T11:13:06.059004Z",
     "iopub.status.busy": "2023-08-19T11:13:06.058713Z",
     "iopub.status.idle": "2023-08-19T11:13:06.240147Z",
     "shell.execute_reply": "2023-08-19T11:13:06.239443Z",
     "shell.execute_reply.started": "2023-08-19T11:13:06.058977Z"
    },
    "tags": []
   },
   "outputs": [
    {
     "data": {
      "text/plain": [
       "Text(0, 0.5, 'POD outcome')"
      ]
     },
     "execution_count": 28,
     "metadata": {},
     "output_type": "execute_result"
    },
    {
     "data": {
      "image/png": "[encoded data removed]",
      "text/plain": [
       "<Figure size 432x288 with 1 Axes>"
      ]
     },
     "metadata": {
      "needs_background": "light"
     },
     "output_type": "display_data"
    }
   ],
   "source": [
    "import matplotlib.pyplot as plt\n",
    "\n",
    "x = df_data['mean_upper40'].values\n",
    "mask = x < 10000\n",
    "x = x[mask]\n",
    "y = df_data['POD'].values\n",
    "y = y[mask]\n",
    "\n",
    "plt.scatter(x, y)\n",
    "plt.xlabel('mean(BSR>thres)')\n",
    "plt.ylabel('POD outcome')"
   ]
  },
  {
   "cell_type": "code",
   "execution_count": 47,
   "id": "c86af0c5-5696-4919-a6c3-b32d61ef173b",
   "metadata": {
    "execution": {
     "iopub.execute_input": "2023-08-19T13:31:32.839968Z",
     "iopub.status.busy": "2023-08-19T13:31:32.839523Z",
     "iopub.status.idle": "2023-08-19T13:31:33.004476Z",
     "shell.execute_reply": "2023-08-19T13:31:33.003986Z",
     "shell.execute_reply.started": "2023-08-19T13:31:32.839922Z"
    },
    "tags": []
   },
   "outputs": [
    {
     "data": {
      "text/plain": [
       "Text(0, 0.5, 'POD outcome')"
      ]
     },
     "execution_count": 47,
     "metadata": {},
     "output_type": "execute_result"
    },
    {
     "data": {
      "image/png": "[encoded data removed]",
      "text/plain": [
       "<Figure size 432x288 with 1 Axes>"
      ]
     },
     "metadata": {
      "needs_background": "light"
     },
     "output_type": "display_data"
    }
   ],
   "source": [
    "import matplotlib.pyplot as plt\n",
    "\n",
    "x = df_data['sum_upper40'].values\n",
    "mask = x < 10000\n",
    "x = x[mask]\n",
    "y = df_data['POD'].values\n",
    "y = y[mask]\n",
    "\n",
    "plt.scatter(x, y)\n",
    "plt.xlabel('sum(BSR>thres)')\n",
    "plt.ylabel('POD outcome')"
   ]
  },
  {
   "cell_type": "code",
   "execution_count": 56,
   "id": "2ecc9ce3-4641-4a1e-9976-2be9790d6004",
   "metadata": {
    "execution": {
     "iopub.execute_input": "2023-08-19T13:33:19.453988Z",
     "iopub.status.busy": "2023-08-19T13:33:19.453476Z",
     "iopub.status.idle": "2023-08-19T13:33:19.589229Z",
     "shell.execute_reply": "2023-08-19T13:33:19.588567Z",
     "shell.execute_reply.started": "2023-08-19T13:33:19.453940Z"
    },
    "tags": []
   },
   "outputs": [
    {
     "data": {
      "text/plain": [
       "(array([95.,  2.,  1.,  0.,  0.,  0.,  0.,  0.,  0.,  1.]),\n",
       " array([ 0. ,  4.6,  9.2, 13.8, 18.4, 23. , 27.6, 32.2, 36.8, 41.4, 46. ]),\n",
       " <BarContainer object of 10 artists>)"
      ]
     },
     "execution_count": 56,
     "metadata": {},
     "output_type": "execute_result"
    },
    {
     "data": {
      "image/png": "[encoded data removed]",
      "text/plain": [
       "<Figure size 432x288 with 1 Axes>"
      ]
     },
     "metadata": {
      "needs_background": "light"
     },
     "output_type": "display_data"
    }
   ],
   "source": [
    "dot_sizes = np.array(dot_sizes)\n",
    "plt.hist(dot_sizes[dot_sizes<1000])"
   ]
  },
  {
   "cell_type": "code",
   "execution_count": 82,
   "id": "02cb3a39-d730-497d-8622-afe2a303c662",
   "metadata": {
    "execution": {
     "iopub.execute_input": "2023-08-19T13:41:22.543022Z",
     "iopub.status.busy": "2023-08-19T13:41:22.542513Z",
     "iopub.status.idle": "2023-08-19T13:41:24.163702Z",
     "shell.execute_reply": "2023-08-19T13:41:24.163084Z",
     "shell.execute_reply.started": "2023-08-19T13:41:22.542972Z"
    },
    "tags": []
   },
   "outputs": [
    {
     "data": {
      "text/plain": [
       "Text(0, 0.5, 'POD outcome')"
      ]
     },
     "execution_count": 82,
     "metadata": {},
     "output_type": "execute_result"
    },
    {
     "data": {
      "image/png": "[encoded data removed]",
      "text/plain": [
       "<Figure size 576x432 with 1 Axes>"
      ]
     },
     "metadata": {
      "needs_background": "light"
     },
     "output_type": "display_data"
    }
   ],
   "source": [
    "MAX = 1500\n",
    "\n",
    "x = df_data['sum_upper40'].values\n",
    "mask = x < MAX\n",
    "x = x[mask]\n",
    "y = df_data['POD'].values\n",
    "y = y[mask]\n",
    "\n",
    "# Grouping the data points into bins\n",
    "num_bins = 50\n",
    "bins_x = np.linspace(0, MAX, num_bins + 1)\n",
    "bins_y = np.linspace(0, 1, 2)\n",
    "digitized_x = np.digitize(x, bins_x)\n",
    "digitized_y = np.digitize(y, bins_y)\n",
    "\n",
    "# Calculate the size of dots based on the number of points in each bin\n",
    "dot_sizes = [np.sum((digitized_x == i) & (digitized_y == j)) for i in range(1, num_bins + 1) for j in range(1, 2 + 1)]\n",
    "\n",
    "# Create a scatter plot with grouped points and adjusted size\n",
    "plt.figure(figsize=(8, 6))\n",
    "for i in range(1, num_bins + 1):\n",
    "    for j in range(1, 2 + 1):\n",
    "        mask = (digitized_x == i) & (digitized_y == j)\n",
    "        if np.any(mask):\n",
    "            plt.scatter(x[mask], y[mask], s=dot_sizes.pop(0), alpha=0.2, c= 'b')\n",
    "            \n",
    "plt.xlabel('sum(BSR>thres)')\n",
    "plt.ylabel('POD outcome')"
   ]
  },
  {
   "cell_type": "markdown",
   "id": "e92a7506-d865-4004-8283-584aff30e46c",
   "metadata": {},
   "source": [
    "# Odds ratio"
   ]
  },
  {
   "cell_type": "markdown",
   "id": "e80a72f2-1341-4058-87aa-c0b3b14cca90",
   "metadata": {},
   "source": [
    "## BSR threshold"
   ]
  },
  {
   "cell_type": "code",
   "execution_count": 7,
   "id": "bab8614e-447d-4a26-807e-8d5abf1f8c3f",
   "metadata": {
    "execution": {
     "iopub.execute_input": "2023-08-30T02:24:21.252654Z",
     "iopub.status.busy": "2023-08-30T02:24:21.252137Z",
     "iopub.status.idle": "2023-08-30T02:27:15.563764Z",
     "shell.execute_reply": "2023-08-30T02:27:15.563075Z",
     "shell.execute_reply.started": "2023-08-30T02:24:21.252603Z"
    },
    "tags": []
   },
   "outputs": [
    {
     "name": "stderr",
     "output_type": "stream",
     "text": [
      "100%|██████████| 11514/11514 [02:54<00:00, 66.06it/s]\n"
     ]
    }
   ],
   "source": [
    "import statsmodels.api as sm\n",
    "from sklearn import metrics\n",
    "from tqdm import tqdm\n",
    "\n",
    "#bsr_thresholds = [0.1, 0.2, 0.3, 0.4, 0.5, 0.6, 0.7, 0.8, 0.9]\n",
    "bsr_thresholds = np.arange(0,100,5)\n",
    "\n",
    "odd_ratios = []\n",
    "cums, outputs = [], []\n",
    "for idx, row in tqdm(df_data.iterrows(), total = df_data.shape[0]):\n",
    "    bsr = np.array(row['bsr_track'], dtype=np.float32)\n",
    "    bsr = bsr[(bsr>=0) & (bsr<=100)]\n",
    "    \n",
    "    if len(bsr) < 10:\n",
    "        print('caseid {}: no bsr'.format(row['fileid']))\n",
    "        df_data.drop([idx], axis=0, inplace=True)\n",
    "        continue\n",
    "    \n",
    "    # thres 이상의 sum, mean 계산\n",
    "    for thres in bsr_thresholds:\n",
    "        df_data.loc[idx,f'sum_upper{thres}'] = (np.nansum(bsr > thres) if np.nansum(bsr > thres) < 600 else 600)\n",
    "        #df_data.loc[idx,f'sum_upper{thres}'] = (np.nansum(bsr > thres)/60) # if np.nansum(bsr > thres) /60 < 10 else 10)\n",
    "        #df_data.loc[idx,f'mean_upper{thres}'] = np.nanmean(bsr > thres)\n",
    "        df_data.loc[idx,f'mean_upper{thres}'] = (np.nanmean(bsr > thres) if np.nanmean(bsr > thres) < 0.4 else 0.4)\n",
    "        \n",
    "    # auc 계산\n",
    "    #mask = np.where((row['bsr_track']>=0) & (row['bsr_track']<=100))[0]\n",
    "    #y_val = row['bsr_track'][mask]\n",
    "    \n",
    "    #df_data.loc[idx, 'bsr_auc'] = metrics.auc(mask, y_val)\n",
    "        \n",
    "        \n",
    "# invalid한 행 제거 (bsr가 전부 nan)\n",
    "#df_data.dropna(subset=['upper0.1'], how='any', axis=0, inplace=True)"
   ]
  },
  {
   "cell_type": "code",
   "execution_count": 8,
   "id": "4638b2ad-1230-4d16-8adb-9f154c9ec760",
   "metadata": {
    "execution": {
     "iopub.execute_input": "2023-08-30T02:27:15.565195Z",
     "iopub.status.busy": "2023-08-30T02:27:15.564920Z",
     "iopub.status.idle": "2023-08-30T02:27:32.048755Z",
     "shell.execute_reply": "2023-08-30T02:27:32.048077Z",
     "shell.execute_reply.started": "2023-08-30T02:27:15.565170Z"
    },
    "tags": []
   },
   "outputs": [
    {
     "name": "stderr",
     "output_type": "stream",
     "text": [
      "100%|██████████| 11514/11514 [00:16<00:00, 698.86it/s]\n"
     ]
    }
   ],
   "source": [
    "for idx, row in tqdm(df_data.iterrows(), total = df_data.shape[0]):\n",
    "    bsr = np.array(row['bsr_track'], dtype=np.float32)\n",
    "    bsr = bsr[(bsr>=0) & (bsr<=100)]\n",
    "    \n",
    "    df_data.loc[idx, 'sum=0'] = np.nansum(bsr == 0)\n",
    "    df_data.loc[idx, 'sum>0'] = np.nansum(bsr > 0)\n",
    "    df_data.loc[idx, 'mean=0'] = np.nanmean(bsr == 0)\n",
    "    df_data.loc[idx, 'mean>0'] = np.nanmean(bsr > 0)"
   ]
  },
  {
   "cell_type": "code",
   "execution_count": 79,
   "id": "0d82dc8e-1dd9-44c3-a826-36e4354f4629",
   "metadata": {
    "execution": {
     "iopub.execute_input": "2023-08-22T06:40:29.726428Z",
     "iopub.status.busy": "2023-08-22T06:40:29.725935Z",
     "iopub.status.idle": "2023-08-22T06:40:29.741956Z",
     "shell.execute_reply": "2023-08-22T06:40:29.741317Z",
     "shell.execute_reply.started": "2023-08-22T06:40:29.726380Z"
    },
    "tags": []
   },
   "outputs": [
    {
     "data": {
      "text/html": [
       "<div>\n",
       "<style scoped>\n",
       "    .dataframe tbody tr th:only-of-type {\n",
       "        vertical-align: middle;\n",
       "    }\n",
       "\n",
       "    .dataframe tbody tr th {\n",
       "        vertical-align: top;\n",
       "    }\n",
       "\n",
       "    .dataframe thead th {\n",
       "        text-align: right;\n",
       "    }\n",
       "</style>\n",
       "<table border=\"1\" class=\"dataframe\">\n",
       "  <thead>\n",
       "    <tr style=\"text-align: right;\">\n",
       "      <th></th>\n",
       "      <th>sum&gt;0</th>\n",
       "      <th>mean&gt;0</th>\n",
       "    </tr>\n",
       "  </thead>\n",
       "  <tbody>\n",
       "    <tr>\n",
       "      <th>0.25</th>\n",
       "      <td>0.0</td>\n",
       "      <td>0.000000</td>\n",
       "    </tr>\n",
       "    <tr>\n",
       "      <th>0.50</th>\n",
       "      <td>63.0</td>\n",
       "      <td>0.003631</td>\n",
       "    </tr>\n",
       "    <tr>\n",
       "      <th>0.75</th>\n",
       "      <td>529.0</td>\n",
       "      <td>0.052152</td>\n",
       "    </tr>\n",
       "  </tbody>\n",
       "</table>\n",
       "</div>"
      ],
      "text/plain": [
       "      sum>0    mean>0\n",
       "0.25    0.0  0.000000\n",
       "0.50   63.0  0.003631\n",
       "0.75  529.0  0.052152"
      ]
     },
     "execution_count": 79,
     "metadata": {},
     "output_type": "execute_result"
    }
   ],
   "source": [
    "df_data[['sum>0', 'mean>0']].quantile([.25, .5, .75])"
   ]
  },
  {
   "cell_type": "code",
   "execution_count": 114,
   "id": "a321637e-ff61-4874-884b-3768a2f333c2",
   "metadata": {
    "execution": {
     "iopub.execute_input": "2023-08-22T07:05:38.005709Z",
     "iopub.status.busy": "2023-08-22T07:05:38.005308Z",
     "iopub.status.idle": "2023-08-22T07:05:38.157249Z",
     "shell.execute_reply": "2023-08-22T07:05:38.156621Z",
     "shell.execute_reply.started": "2023-08-22T07:05:38.005668Z"
    },
    "tags": []
   },
   "outputs": [
    {
     "data": {
      "text/plain": [
       "(array([1.0649e+04, 5.1800e+02, 1.9900e+02, 8.4000e+01, 3.7000e+01,\n",
       "        1.1000e+01, 1.1000e+01, 4.0000e+00, 0.0000e+00, 1.0000e+00]),\n",
       " array([    0. ,  3750.6,  7501.2, 11251.8, 15002.4, 18753. , 22503.6,\n",
       "        26254.2, 30004.8, 33755.4, 37506. ]),\n",
       " <BarContainer object of 10 artists>)"
      ]
     },
     "execution_count": 114,
     "metadata": {},
     "output_type": "execute_result"
    },
    {
     "data": {
      "image/png": "[encoded data removed]",
      "text/plain": [
       "<Figure size 432x288 with 1 Axes>"
      ]
     },
     "metadata": {
      "needs_background": "light"
     },
     "output_type": "display_data"
    }
   ],
   "source": [
    "plt.hist(df_data['sum>0'].values)"
   ]
  },
  {
   "cell_type": "markdown",
   "id": "09ee10ac-10c1-4a5a-98ed-d733b42b310a",
   "metadata": {},
   "source": [
    "### thres에 따른 pod incidence rate (0~10분)"
   ]
  },
  {
   "cell_type": "code",
   "execution_count": 45,
   "id": "ed3a9a6d-cf71-4552-a161-6189e3be99cd",
   "metadata": {
    "execution": {
     "iopub.execute_input": "2023-08-22T06:13:56.353060Z",
     "iopub.status.busy": "2023-08-22T06:13:56.352567Z",
     "iopub.status.idle": "2023-08-22T06:13:56.393151Z",
     "shell.execute_reply": "2023-08-22T06:13:56.392550Z",
     "shell.execute_reply.started": "2023-08-22T06:13:56.353013Z"
    },
    "tags": []
   },
   "outputs": [],
   "source": [
    "incids = [] # incidence of pod\n",
    "for thres in bsr_thresholds:\n",
    "    row_inc = []\n",
    "    \n",
    "    sums = df_data[f'sum_upper{thres}'].values\n",
    "    row_inc.append(np.nanmean(df_data['POD'][sums == 0])*100)\n",
    "    \n",
    "    sums = df_data[f'sum_upper{thres}'].values\n",
    "    row_inc.append(np.nanmean(df_data['POD'][(0 < sums) & (sums <= 60)])*100)\n",
    "    \n",
    "    sums = df_data[f'sum_upper{thres}'].values\n",
    "    row_inc.append(np.nanmean(df_data['POD'][(60 < sums) & (sums <= 180)])*100)    \n",
    "    \n",
    "    sums = df_data[f'sum_upper{thres}'].values\n",
    "    row_inc.append(np.nanmean(df_data['POD'][(180 < sums) & (sums <= 300)])*100)  \n",
    "    \n",
    "    sums = df_data[f'sum_upper{thres}'].values\n",
    "    row_inc.append(np.nanmean(df_data['POD'][(300 < sums) & (sums < 600)])*100)      \n",
    "    \n",
    "    sums = df_data[f'sum_upper{thres}'].values\n",
    "    row_inc.append(np.nanmean(df_data['POD'][600 == sums])*100)    \n",
    "    \n",
    "    incids.append(row_inc)"
   ]
  },
  {
   "cell_type": "code",
   "execution_count": 60,
   "id": "42b087d0-e97a-4ba4-8862-38b802505fa8",
   "metadata": {
    "collapsed": true,
    "execution": {
     "iopub.execute_input": "2023-08-22T06:25:24.939071Z",
     "iopub.status.busy": "2023-08-22T06:25:24.938572Z",
     "iopub.status.idle": "2023-08-22T06:25:27.276705Z",
     "shell.execute_reply": "2023-08-22T06:25:27.276067Z",
     "shell.execute_reply.started": "2023-08-22T06:25:24.939023Z"
    },
    "jupyter": {
     "outputs_hidden": true
    },
    "tags": []
   },
   "outputs": [
    {
     "data": {
      "image/png": "[encoded data removed]",
      "text/plain": [
       "<Figure size 432x288 with 1 Axes>"
      ]
     },
     "metadata": {
      "needs_background": "light"
     },
     "output_type": "display_data"
    },
    {
     "data": {
      "image/png": "[encoded data removed]",
      "text/plain": [
       "<Figure size 432x288 with 1 Axes>"
      ]
     },
     "metadata": {
      "needs_background": "light"
     },
     "output_type": "display_data"
    },
    {
     "data": {
      "image/png": "[encoded data removed]",
      "text/plain": [
       "<Figure size 432x288 with 1 Axes>"
      ]
     },
     "metadata": {
      "needs_background": "light"
     },
     "output_type": "display_data"
    },
    {
     "data": {
      "image/png": "[encoded data removed]",
      "text/plain": [
       "<Figure size 432x288 with 1 Axes>"
      ]
     },
     "metadata": {
      "needs_background": "light"
     },
     "output_type": "display_data"
    },
    {
     "data": {
      "image/png": "[encoded data removed]",
      "text/plain": [
       "<Figure size 432x288 with 1 Axes>"
      ]
     },
     "metadata": {
      "needs_background": "light"
     },
     "output_type": "display_data"
    },
    {
     "data": {
      "image/png": "[encoded data removed]",
      "text/plain": [
       "<Figure size 432x288 with 1 Axes>"
      ]
     },
     "metadata": {
      "needs_background": "light"
     },
     "output_type": "display_data"
    },
    {
     "data": {
      "image/png": "[encoded data removed]",
      "text/plain": [
       "<Figure size 432x288 with 1 Axes>"
      ]
     },
     "metadata": {
      "needs_background": "light"
     },
     "output_type": "display_data"
    },
    {
     "data": {
      "image/png": "[encoded data removed]",
      "text/plain": [
       "<Figure size 432x288 with 1 Axes>"
      ]
     },
     "metadata": {
      "needs_background": "light"
     },
     "output_type": "display_data"
    },
    {
     "data": {
      "image/png": "[encoded data removed]",
      "text/plain": [
       "<Figure size 432x288 with 1 Axes>"
      ]
     },
     "metadata": {
      "needs_background": "light"
     },
     "output_type": "display_data"
    },
    {
     "data": {
      "image/png": "[encoded data removed]",
      "text/plain": [
       "<Figure size 432x288 with 1 Axes>"
      ]
     },
     "metadata": {
      "needs_background": "light"
     },
     "output_type": "display_data"
    },
    {
     "data": {
      "image/png": "[encoded data removed]",
      "text/plain": [
       "<Figure size 432x288 with 1 Axes>"
      ]
     },
     "metadata": {
      "needs_background": "light"
     },
     "output_type": "display_data"
    },
    {
     "data": {
      "image/png": "[encoded data removed]",
      "text/plain": [
       "<Figure size 432x288 with 1 Axes>"
      ]
     },
     "metadata": {
      "needs_background": "light"
     },
     "output_type": "display_data"
    },
    {
     "data": {
      "image/png": "[encoded data removed]",
      "text/plain": [
       "<Figure size 432x288 with 1 Axes>"
      ]
     },
     "metadata": {
      "needs_background": "light"
     },
     "output_type": "display_data"
    },
    {
     "data": {
      "image/png": "[encoded data removed]",
      "text/plain": [
       "<Figure size 432x288 with 1 Axes>"
      ]
     },
     "metadata": {
      "needs_background": "light"
     },
     "output_type": "display_data"
    },
    {
     "data": {
      "image/png": "[encoded data removed]",
      "text/plain": [
       "<Figure size 432x288 with 1 Axes>"
      ]
     },
     "metadata": {
      "needs_background": "light"
     },
     "output_type": "display_data"
    },
    {
     "data": {
      "image/png": "[encoded data removed]",
      "text/plain": [
       "<Figure size 432x288 with 1 Axes>"
      ]
     },
     "metadata": {
      "needs_background": "light"
     },
     "output_type": "display_data"
    },
    {
     "data": {
      "image/png": "[encoded data removed]",
      "text/plain": [
       "<Figure size 432x288 with 1 Axes>"
      ]
     },
     "metadata": {
      "needs_background": "light"
     },
     "output_type": "display_data"
    },
    {
     "data": {
      "image/png": "[encoded data removed]",
      "text/plain": [
       "<Figure size 432x288 with 1 Axes>"
      ]
     },
     "metadata": {
      "needs_background": "light"
     },
     "output_type": "display_data"
    },
    {
     "data": {
      "image/png": "[encoded data removed]",
      "text/plain": [
       "<Figure size 432x288 with 1 Axes>"
      ]
     },
     "metadata": {
      "needs_background": "light"
     },
     "output_type": "display_data"
    },
    {
     "data": {
      "image/png": "[encoded data removed]",
      "text/plain": [
       "<Figure size 432x288 with 1 Axes>"
      ]
     },
     "metadata": {
      "needs_background": "light"
     },
     "output_type": "display_data"
    }
   ],
   "source": [
    "import matplotlib.pyplot as plt\n",
    "\n",
    "\n",
    "for thres in bsr_thresholds:\n",
    "    plt.bar(np.arange(len(incids[0])), incids[0])\n",
    "    plt.xticks(np.arange(len(incids[0])), ['t = 0', '0<t<=1', '1<t<=3', '3<t<=5', '5<t<10', 't=10'])\n",
    "    plt.xlabel(f'Sum of duration (bsr>{thres})')\n",
    "    plt.ylabel('Incidence rate of POD (%)')\n",
    "    plt.show()"
   ]
  },
  {
   "cell_type": "markdown",
   "id": "54dfdd4b-8e3b-439b-82e3-b65d4a28da2b",
   "metadata": {},
   "source": [
    "### thres에 따른 pod incidence rate (min 단위)"
   ]
  },
  {
   "cell_type": "code",
   "execution_count": 104,
   "id": "f974c3fb-c33e-4455-a3e5-b38935c903b3",
   "metadata": {
    "execution": {
     "iopub.execute_input": "2023-08-22T06:49:13.503127Z",
     "iopub.status.busy": "2023-08-22T06:49:13.502698Z",
     "iopub.status.idle": "2023-08-22T06:49:13.562040Z",
     "shell.execute_reply": "2023-08-22T06:49:13.561291Z",
     "shell.execute_reply.started": "2023-08-22T06:49:13.503087Z"
    },
    "tags": []
   },
   "outputs": [],
   "source": [
    "incids = [] # incidence of pod\n",
    "bins = []\n",
    "\n",
    "thres = 0\n",
    "sums = df_data[f'sum>0'].values\n",
    "\n",
    "#incids.append(np.nanmean(df_data['POD'][sums == 0])*100)\n",
    "\n",
    "for i in range(300):\n",
    "    sum_r = df_data['POD'][(i*60 < sums) & (sums <= (i+1)*60)]\n",
    "    incids.append(np.nanmean(sum_r)*100)\n",
    "    bins.append(len(sum_r))\n",
    "     \n",
    "sum_r = df_data['POD'][(sums > (i+1)*60)]\n",
    "incids.append(np.nanmean(sum_r)*100)\n",
    "bins.append(len(sum_r))"
   ]
  },
  {
   "cell_type": "code",
   "execution_count": 113,
   "id": "a3430e33-007b-47bb-a1d8-9e1b59d87a36",
   "metadata": {
    "execution": {
     "iopub.execute_input": "2023-08-22T07:02:43.202782Z",
     "iopub.status.busy": "2023-08-22T07:02:43.202278Z",
     "iopub.status.idle": "2023-08-22T07:02:43.858503Z",
     "shell.execute_reply": "2023-08-22T07:02:43.857900Z",
     "shell.execute_reply.started": "2023-08-22T07:02:43.202734Z"
    },
    "tags": []
   },
   "outputs": [
    {
     "data": {
      "image/png": "[encoded data removed]",
      "text/plain": [
       "<Figure size 720x360 with 1 Axes>"
      ]
     },
     "metadata": {
      "needs_background": "light"
     },
     "output_type": "display_data"
    }
   ],
   "source": [
    "plt.figure(figsize=(10,5))\n",
    "plt.bar(np.arange(len(incids)), incids)\n",
    "plt.xlabel(f'Sum of duration [bsr>{thres}] (min)')\n",
    "plt.ylabel('Incidence rate of POD (%)')\n",
    "plt.show()"
   ]
  },
  {
   "cell_type": "code",
   "execution_count": 111,
   "id": "111eb680-466d-44d0-8828-ed6099cbf54f",
   "metadata": {
    "execution": {
     "iopub.execute_input": "2023-08-22T06:59:59.044442Z",
     "iopub.status.busy": "2023-08-22T06:59:59.043962Z",
     "iopub.status.idle": "2023-08-22T06:59:59.717211Z",
     "shell.execute_reply": "2023-08-22T06:59:59.716586Z",
     "shell.execute_reply.started": "2023-08-22T06:59:59.044396Z"
    },
    "tags": []
   },
   "outputs": [
    {
     "data": {
      "image/png": "[encoded data removed]",
      "text/plain": [
       "<Figure size 1440x720 with 1 Axes>"
      ]
     },
     "metadata": {
      "needs_background": "light"
     },
     "output_type": "display_data"
    }
   ],
   "source": [
    "plt.figure(figsize=(20,10))\n",
    "plt.bar(np.arange(len(incids)), bins)\n",
    "plt.show()"
   ]
  },
  {
   "cell_type": "markdown",
   "id": "a4194788-48b1-432a-b0e3-9439ad01967b",
   "metadata": {},
   "source": [
    "## BSR>0 threshold"
   ]
  },
  {
   "cell_type": "code",
   "execution_count": null,
   "id": "0008605b-3c6c-4f46-9fae-8850196a0243",
   "metadata": {},
   "outputs": [],
   "source": [
    "from sklearn.linear_model import LogisticRegression\n",
    "\n",
    "lr = LogisticRegression()\n",
    "lr.fit(df_data['sum>0'], df_data['POD'])"
   ]
  },
  {
   "cell_type": "markdown",
   "id": "e7726ec6-f067-4027-a279-b04a749ca05c",
   "metadata": {},
   "source": [
    "## odds ratio for sum(bsr > thres)"
   ]
  },
  {
   "cell_type": "markdown",
   "id": "3cb62220-0347-4569-8a78-b66f44db9feb",
   "metadata": {},
   "source": [
    "### unit(sec), max 400s)"
   ]
  },
  {
   "cell_type": "code",
   "execution_count": 11,
   "id": "ab85ff40-1eaf-4de7-aae5-ecf66af9e188",
   "metadata": {
    "collapsed": true,
    "execution": {
     "iopub.execute_input": "2023-08-22T04:34:12.014909Z",
     "iopub.status.busy": "2023-08-22T04:34:12.014398Z",
     "iopub.status.idle": "2023-08-22T04:34:12.268408Z",
     "shell.execute_reply": "2023-08-22T04:34:12.267639Z",
     "shell.execute_reply.started": "2023-08-22T04:34:12.014859Z"
    },
    "jupyter": {
     "outputs_hidden": true
    },
    "tags": []
   },
   "outputs": [
    {
     "name": "stdout",
     "output_type": "stream",
     "text": [
      "Optimization terminated successfully.\n",
      "         Current function value: 0.207588\n",
      "         Iterations 7\n",
      "sum_upper0\tb=0.003, exp(b)=1.003, pval=0.000\n",
      "Optimization terminated successfully.\n",
      "         Current function value: 0.209383\n",
      "         Iterations 7\n",
      "sum_upper5\tb=0.003, exp(b)=1.003, pval=0.000\n",
      "Optimization terminated successfully.\n",
      "         Current function value: 0.210351\n",
      "         Iterations 7\n",
      "sum_upper10\tb=0.003, exp(b)=1.003, pval=0.000\n",
      "Optimization terminated successfully.\n",
      "         Current function value: 0.210906\n",
      "         Iterations 7\n",
      "sum_upper15\tb=0.003, exp(b)=1.003, pval=0.000\n",
      "Optimization terminated successfully.\n",
      "         Current function value: 0.211401\n",
      "         Iterations 7\n",
      "sum_upper20\tb=0.003, exp(b)=1.003, pval=0.000\n",
      "Optimization terminated successfully.\n",
      "         Current function value: 0.211774\n",
      "         Iterations 7\n",
      "sum_upper25\tb=0.003, exp(b)=1.003, pval=0.000\n",
      "Optimization terminated successfully.\n",
      "         Current function value: 0.212373\n",
      "         Iterations 7\n",
      "sum_upper30\tb=0.003, exp(b)=1.003, pval=0.000\n",
      "Optimization terminated successfully.\n",
      "         Current function value: 0.212953\n",
      "         Iterations 7\n",
      "sum_upper35\tb=0.003, exp(b)=1.003, pval=0.000\n",
      "Optimization terminated successfully.\n",
      "         Current function value: 0.213012\n",
      "         Iterations 7\n",
      "sum_upper40\tb=0.003, exp(b)=1.003, pval=0.000\n",
      "Optimization terminated successfully.\n",
      "         Current function value: 0.212934\n",
      "         Iterations 7\n",
      "sum_upper45\tb=0.004, exp(b)=1.004, pval=0.000\n",
      "Optimization terminated successfully.\n",
      "         Current function value: 0.212780\n",
      "         Iterations 7\n",
      "sum_upper50\tb=0.004, exp(b)=1.004, pval=0.000\n",
      "Optimization terminated successfully.\n",
      "         Current function value: 0.212646\n",
      "         Iterations 7\n",
      "sum_upper55\tb=0.004, exp(b)=1.004, pval=0.000\n",
      "Optimization terminated successfully.\n",
      "         Current function value: 0.212671\n",
      "         Iterations 7\n",
      "sum_upper60\tb=0.005, exp(b)=1.005, pval=0.000\n",
      "Optimization terminated successfully.\n",
      "         Current function value: 0.212979\n",
      "         Iterations 7\n",
      "sum_upper65\tb=0.005, exp(b)=1.005, pval=0.000\n",
      "Optimization terminated successfully.\n",
      "         Current function value: 0.213659\n",
      "         Iterations 7\n",
      "sum_upper70\tb=0.005, exp(b)=1.005, pval=0.000\n",
      "Optimization terminated successfully.\n",
      "         Current function value: 0.213976\n",
      "         Iterations 7\n",
      "sum_upper75\tb=0.005, exp(b)=1.005, pval=0.000\n",
      "Optimization terminated successfully.\n",
      "         Current function value: 0.214245\n",
      "         Iterations 7\n",
      "sum_upper80\tb=0.005, exp(b)=1.005, pval=0.000\n",
      "Optimization terminated successfully.\n",
      "         Current function value: 0.214509\n",
      "         Iterations 7\n",
      "sum_upper85\tb=0.005, exp(b)=1.005, pval=0.001\n",
      "Optimization terminated successfully.\n",
      "         Current function value: 0.214650\n",
      "         Iterations 7\n",
      "sum_upper90\tb=0.004, exp(b)=1.004, pval=0.006\n",
      "Optimization terminated successfully.\n",
      "         Current function value: 0.214771\n",
      "         Iterations 7\n",
      "sum_upper95\tb=0.004, exp(b)=1.004, pval=0.059\n"
     ]
    }
   ],
   "source": [
    "# np.nanmean(bsr>thres)에 대한 odds ratio\n",
    "odd_ratios = []\n",
    "for thres in bsr_thresholds:\n",
    "    c = 'sum_upper{}'.format(thres)\n",
    "    model = sm.Logit(df_data['POD'], df_data[['intercept', c]])\n",
    "    res = model.fit()\n",
    "    b = res.params[c]\n",
    "    pval = res.pvalues[c]\n",
    "    odd_ratios.append(np.exp(b))\n",
    "    print('{}\\tb={:.3f}, exp(b)={:.3f}, pval={:.3f}'.format(c, b, np.exp(b), pval))"
   ]
  },
  {
   "cell_type": "code",
   "execution_count": 12,
   "id": "2b4d9cd6-03a3-49f7-b3c6-c21e9cc9bd76",
   "metadata": {
    "execution": {
     "iopub.execute_input": "2023-08-22T04:34:19.936614Z",
     "iopub.status.busy": "2023-08-22T04:34:19.936157Z",
     "iopub.status.idle": "2023-08-22T04:34:20.076585Z",
     "shell.execute_reply": "2023-08-22T04:34:20.075870Z",
     "shell.execute_reply.started": "2023-08-22T04:34:19.936558Z"
    },
    "tags": []
   },
   "outputs": [
    {
     "data": {
      "image/png": "[encoded data removed]",
      "text/plain": [
       "<Figure size 432x288 with 1 Axes>"
      ]
     },
     "metadata": {
      "needs_background": "light"
     },
     "output_type": "display_data"
    }
   ],
   "source": [
    "import matplotlib.pyplot as plt\n",
    "\n",
    "plt.plot(bsr_thresholds, odd_ratios)\n",
    "plt.title('odds ratio of sum(bsr>thres)')\n",
    "plt.xlabel('BSR threshold')\n",
    "plt.ylabel('Odds ratio')\n",
    "plt.show()"
   ]
  },
  {
   "cell_type": "markdown",
   "id": "3bd61d37-36b2-48f2-b357-f08204341167",
   "metadata": {},
   "source": [
    "### unit(sec), max 600s"
   ]
  },
  {
   "cell_type": "code",
   "execution_count": 25,
   "id": "1c4ff826-cc3e-4d39-81a6-84c5d33960be",
   "metadata": {
    "collapsed": true,
    "execution": {
     "iopub.execute_input": "2023-08-22T05:28:17.071668Z",
     "iopub.status.busy": "2023-08-22T05:28:17.071227Z",
     "iopub.status.idle": "2023-08-22T05:28:17.314649Z",
     "shell.execute_reply": "2023-08-22T05:28:17.313917Z",
     "shell.execute_reply.started": "2023-08-22T05:28:17.071625Z"
    },
    "jupyter": {
     "outputs_hidden": true
    },
    "tags": []
   },
   "outputs": [
    {
     "name": "stdout",
     "output_type": "stream",
     "text": [
      "Optimization terminated successfully.\n",
      "         Current function value: 0.207216\n",
      "         Iterations 7\n",
      "sum_upper0\tb=0.002, exp(b)=1.002, pval=0.000\n",
      "Optimization terminated successfully.\n",
      "         Current function value: 0.209334\n",
      "         Iterations 7\n",
      "sum_upper5\tb=0.002, exp(b)=1.002, pval=0.000\n",
      "Optimization terminated successfully.\n",
      "         Current function value: 0.210331\n",
      "         Iterations 7\n",
      "sum_upper10\tb=0.002, exp(b)=1.002, pval=0.000\n",
      "Optimization terminated successfully.\n",
      "         Current function value: 0.211012\n",
      "         Iterations 7\n",
      "sum_upper15\tb=0.002, exp(b)=1.002, pval=0.000\n",
      "Optimization terminated successfully.\n",
      "         Current function value: 0.211388\n",
      "         Iterations 7\n",
      "sum_upper20\tb=0.002, exp(b)=1.002, pval=0.000\n",
      "Optimization terminated successfully.\n",
      "         Current function value: 0.211840\n",
      "         Iterations 7\n",
      "sum_upper25\tb=0.002, exp(b)=1.002, pval=0.000\n",
      "Optimization terminated successfully.\n",
      "         Current function value: 0.212401\n",
      "         Iterations 7\n",
      "sum_upper30\tb=0.002, exp(b)=1.002, pval=0.000\n",
      "Optimization terminated successfully.\n",
      "         Current function value: 0.212865\n",
      "         Iterations 7\n",
      "sum_upper35\tb=0.002, exp(b)=1.002, pval=0.000\n",
      "Optimization terminated successfully.\n",
      "         Current function value: 0.212839\n",
      "         Iterations 7\n",
      "sum_upper40\tb=0.002, exp(b)=1.002, pval=0.000\n",
      "Optimization terminated successfully.\n",
      "         Current function value: 0.212805\n",
      "         Iterations 7\n",
      "sum_upper45\tb=0.003, exp(b)=1.003, pval=0.000\n",
      "Optimization terminated successfully.\n",
      "         Current function value: 0.212635\n",
      "         Iterations 7\n",
      "sum_upper50\tb=0.003, exp(b)=1.003, pval=0.000\n",
      "Optimization terminated successfully.\n",
      "         Current function value: 0.212580\n",
      "         Iterations 7\n",
      "sum_upper55\tb=0.003, exp(b)=1.003, pval=0.000\n",
      "Optimization terminated successfully.\n",
      "         Current function value: 0.212802\n",
      "         Iterations 7\n",
      "sum_upper60\tb=0.004, exp(b)=1.004, pval=0.000\n",
      "Optimization terminated successfully.\n",
      "         Current function value: 0.213209\n",
      "         Iterations 7\n",
      "sum_upper65\tb=0.004, exp(b)=1.004, pval=0.000\n",
      "Optimization terminated successfully.\n",
      "         Current function value: 0.213773\n",
      "         Iterations 7\n",
      "sum_upper70\tb=0.004, exp(b)=1.004, pval=0.000\n",
      "Optimization terminated successfully.\n",
      "         Current function value: 0.214090\n",
      "         Iterations 7\n",
      "sum_upper75\tb=0.004, exp(b)=1.004, pval=0.000\n",
      "Optimization terminated successfully.\n",
      "         Current function value: 0.214291\n",
      "         Iterations 7\n",
      "sum_upper80\tb=0.004, exp(b)=1.004, pval=0.000\n",
      "Optimization terminated successfully.\n",
      "         Current function value: 0.214507\n",
      "         Iterations 7\n",
      "sum_upper85\tb=0.004, exp(b)=1.004, pval=0.001\n",
      "Optimization terminated successfully.\n",
      "         Current function value: 0.214647\n",
      "         Iterations 7\n",
      "sum_upper90\tb=0.003, exp(b)=1.003, pval=0.006\n",
      "Optimization terminated successfully.\n",
      "         Current function value: 0.214732\n",
      "         Iterations 7\n",
      "sum_upper95\tb=0.003, exp(b)=1.003, pval=0.027\n"
     ]
    }
   ],
   "source": [
    "# np.nanmean(bsr>thres)에 대한 odds ratio\n",
    "odd_ratios = []\n",
    "for thres in bsr_thresholds:\n",
    "    c = 'sum_upper{}'.format(thres)\n",
    "    model = sm.Logit(df_data['POD'], df_data[['intercept', c]])\n",
    "    res = model.fit()\n",
    "    b = res.params[c]\n",
    "    pval = res.pvalues[c]\n",
    "    odd_ratios.append(np.exp(b))\n",
    "    print('{}\\tb={:.3f}, exp(b)={:.3f}, pval={:.3f}'.format(c, b, np.exp(b), pval))"
   ]
  },
  {
   "cell_type": "code",
   "execution_count": 26,
   "id": "dc500b88-b7f2-4796-b3b1-8693fbc9e400",
   "metadata": {
    "execution": {
     "iopub.execute_input": "2023-08-22T05:28:22.180957Z",
     "iopub.status.busy": "2023-08-22T05:28:22.180489Z",
     "iopub.status.idle": "2023-08-22T05:28:22.332602Z",
     "shell.execute_reply": "2023-08-22T05:28:22.331968Z",
     "shell.execute_reply.started": "2023-08-22T05:28:22.180912Z"
    },
    "tags": []
   },
   "outputs": [
    {
     "data": {
      "image/png": "[encoded data removed]",
      "text/plain": [
       "<Figure size 432x288 with 1 Axes>"
      ]
     },
     "metadata": {
      "needs_background": "light"
     },
     "output_type": "display_data"
    }
   ],
   "source": [
    "import matplotlib.pyplot as plt\n",
    "\n",
    "plt.plot(bsr_thresholds, odd_ratios)\n",
    "plt.title('odds ratio of sum(bsr>thres)')\n",
    "plt.xlabel('BSR threshold')\n",
    "plt.ylabel('Odds ratio')\n",
    "plt.show()"
   ]
  },
  {
   "cell_type": "markdown",
   "id": "6197b65e-2474-4dc4-80db-8f382c3d9bbb",
   "metadata": {},
   "source": [
    "### unit(min), max 10min"
   ]
  },
  {
   "cell_type": "code",
   "execution_count": 14,
   "id": "f54ffa3e-42b0-4211-90ed-d657670d2fb4",
   "metadata": {
    "collapsed": true,
    "execution": {
     "iopub.execute_input": "2023-08-22T04:39:29.952116Z",
     "iopub.status.busy": "2023-08-22T04:39:29.951866Z",
     "iopub.status.idle": "2023-08-22T04:39:30.230841Z",
     "shell.execute_reply": "2023-08-22T04:39:30.230146Z",
     "shell.execute_reply.started": "2023-08-22T04:39:29.952093Z"
    },
    "jupyter": {
     "outputs_hidden": true
    },
    "tags": []
   },
   "outputs": [
    {
     "name": "stdout",
     "output_type": "stream",
     "text": [
      "Optimization terminated successfully.\n",
      "         Current function value: 0.207216\n",
      "         Iterations 7\n",
      "sum_upper0\tb=0.121, exp(b)=1.128, pval=0.000\n",
      "Optimization terminated successfully.\n",
      "         Current function value: 0.209334\n",
      "         Iterations 7\n",
      "sum_upper5\tb=0.120, exp(b)=1.128, pval=0.000\n",
      "Optimization terminated successfully.\n",
      "         Current function value: 0.210331\n",
      "         Iterations 7\n",
      "sum_upper10\tb=0.122, exp(b)=1.130, pval=0.000\n",
      "Optimization terminated successfully.\n",
      "         Current function value: 0.211012\n",
      "         Iterations 7\n",
      "sum_upper15\tb=0.125, exp(b)=1.133, pval=0.000\n",
      "Optimization terminated successfully.\n",
      "         Current function value: 0.211388\n",
      "         Iterations 7\n",
      "sum_upper20\tb=0.131, exp(b)=1.140, pval=0.000\n",
      "Optimization terminated successfully.\n",
      "         Current function value: 0.211840\n",
      "         Iterations 7\n",
      "sum_upper25\tb=0.134, exp(b)=1.144, pval=0.000\n",
      "Optimization terminated successfully.\n",
      "         Current function value: 0.212401\n",
      "         Iterations 7\n",
      "sum_upper30\tb=0.135, exp(b)=1.144, pval=0.000\n",
      "Optimization terminated successfully.\n",
      "         Current function value: 0.212865\n",
      "         Iterations 7\n",
      "sum_upper35\tb=0.136, exp(b)=1.146, pval=0.000\n",
      "Optimization terminated successfully.\n",
      "         Current function value: 0.212839\n",
      "         Iterations 7\n",
      "sum_upper40\tb=0.150, exp(b)=1.162, pval=0.000\n",
      "Optimization terminated successfully.\n",
      "         Current function value: 0.212805\n",
      "         Iterations 7\n",
      "sum_upper45\tb=0.166, exp(b)=1.181, pval=0.000\n",
      "Optimization terminated successfully.\n",
      "         Current function value: 0.212635\n",
      "         Iterations 7\n",
      "sum_upper50\tb=0.187, exp(b)=1.205, pval=0.000\n",
      "Optimization terminated successfully.\n",
      "         Current function value: 0.212580\n",
      "         Iterations 7\n",
      "sum_upper55\tb=0.205, exp(b)=1.228, pval=0.000\n",
      "Optimization terminated successfully.\n",
      "         Current function value: 0.212802\n",
      "         Iterations 7\n",
      "sum_upper60\tb=0.223, exp(b)=1.250, pval=0.000\n",
      "Optimization terminated successfully.\n",
      "         Current function value: 0.213209\n",
      "         Iterations 7\n",
      "sum_upper65\tb=0.232, exp(b)=1.261, pval=0.000\n",
      "Optimization terminated successfully.\n",
      "         Current function value: 0.213773\n",
      "         Iterations 7\n",
      "sum_upper70\tb=0.222, exp(b)=1.249, pval=0.000\n",
      "Optimization terminated successfully.\n",
      "         Current function value: 0.214090\n",
      "         Iterations 7\n",
      "sum_upper75\tb=0.227, exp(b)=1.255, pval=0.000\n",
      "Optimization terminated successfully.\n",
      "         Current function value: 0.214291\n",
      "         Iterations 7\n",
      "sum_upper80\tb=0.230, exp(b)=1.258, pval=0.000\n",
      "Optimization terminated successfully.\n",
      "         Current function value: 0.214507\n",
      "         Iterations 7\n",
      "sum_upper85\tb=0.212, exp(b)=1.237, pval=0.001\n",
      "Optimization terminated successfully.\n",
      "         Current function value: 0.214647\n",
      "         Iterations 7\n",
      "sum_upper90\tb=0.202, exp(b)=1.224, pval=0.006\n",
      "Optimization terminated successfully.\n",
      "         Current function value: 0.214732\n",
      "         Iterations 7\n",
      "sum_upper95\tb=0.190, exp(b)=1.210, pval=0.027\n"
     ]
    }
   ],
   "source": [
    "# np.nanmean(bsr>thres)에 대한 odds ratio\n",
    "odd_ratios = []\n",
    "for thres in bsr_thresholds:\n",
    "    c = 'sum_upper{}'.format(thres)\n",
    "    model = sm.Logit(df_data['POD'], df_data[['intercept', c]])\n",
    "    res = model.fit()\n",
    "    b = res.params[c]\n",
    "    pval = res.pvalues[c]\n",
    "    odd_ratios.append(np.exp(b))\n",
    "    print('{}\\tb={:.3f}, exp(b)={:.3f}, pval={:.3f}'.format(c, b, np.exp(b), pval))"
   ]
  },
  {
   "cell_type": "code",
   "execution_count": 15,
   "id": "9d7ce468-978b-4960-b6e8-da29dbdbc5f5",
   "metadata": {
    "execution": {
     "iopub.execute_input": "2023-08-22T04:39:30.232246Z",
     "iopub.status.busy": "2023-08-22T04:39:30.231940Z",
     "iopub.status.idle": "2023-08-22T04:39:30.407194Z",
     "shell.execute_reply": "2023-08-22T04:39:30.406477Z",
     "shell.execute_reply.started": "2023-08-22T04:39:30.232212Z"
    },
    "tags": []
   },
   "outputs": [
    {
     "data": {
      "image/png": "[encoded data removed]",
      "text/plain": [
       "<Figure size 432x288 with 1 Axes>"
      ]
     },
     "metadata": {
      "needs_background": "light"
     },
     "output_type": "display_data"
    }
   ],
   "source": [
    "import matplotlib.pyplot as plt\n",
    "\n",
    "plt.plot(bsr_thresholds, odd_ratios)\n",
    "plt.title('odds ratio of sum(bsr>thres)')\n",
    "plt.xlabel('BSR threshold')\n",
    "plt.ylabel('Odds ratio')\n",
    "plt.show()"
   ]
  },
  {
   "cell_type": "markdown",
   "id": "a9d3e6ec-fb4c-4195-aac8-9ce017ff178a",
   "metadata": {},
   "source": [
    "### unit(min), no max"
   ]
  },
  {
   "cell_type": "code",
   "execution_count": 17,
   "id": "87b44edb-5cb3-4858-8d62-544bf7a18397",
   "metadata": {
    "collapsed": true,
    "execution": {
     "iopub.execute_input": "2023-08-22T04:43:27.585683Z",
     "iopub.status.busy": "2023-08-22T04:43:27.585186Z",
     "iopub.status.idle": "2023-08-22T04:43:27.837833Z",
     "shell.execute_reply": "2023-08-22T04:43:27.837212Z",
     "shell.execute_reply.started": "2023-08-22T04:43:27.585636Z"
    },
    "jupyter": {
     "outputs_hidden": true
    },
    "tags": []
   },
   "outputs": [
    {
     "name": "stdout",
     "output_type": "stream",
     "text": [
      "Optimization terminated successfully.\n",
      "         Current function value: 0.206722\n",
      "         Iterations 7\n",
      "sum_upper0\tb=0.009, exp(b)=1.009, pval=0.000\n",
      "Optimization terminated successfully.\n",
      "         Current function value: 0.211068\n",
      "         Iterations 7\n",
      "sum_upper5\tb=0.010, exp(b)=1.010, pval=0.000\n",
      "Optimization terminated successfully.\n",
      "         Current function value: 0.211921\n",
      "         Iterations 7\n",
      "sum_upper10\tb=0.012, exp(b)=1.012, pval=0.000\n",
      "Optimization terminated successfully.\n",
      "         Current function value: 0.212429\n",
      "         Iterations 7\n",
      "sum_upper15\tb=0.013, exp(b)=1.013, pval=0.000\n",
      "Optimization terminated successfully.\n",
      "         Current function value: 0.212848\n",
      "         Iterations 7\n",
      "sum_upper20\tb=0.014, exp(b)=1.014, pval=0.000\n",
      "Optimization terminated successfully.\n",
      "         Current function value: 0.213178\n",
      "         Iterations 7\n",
      "sum_upper25\tb=0.016, exp(b)=1.016, pval=0.000\n",
      "Optimization terminated successfully.\n",
      "         Current function value: 0.213484\n",
      "         Iterations 7\n",
      "sum_upper30\tb=0.018, exp(b)=1.018, pval=0.000\n",
      "Optimization terminated successfully.\n",
      "         Current function value: 0.213764\n",
      "         Iterations 7\n",
      "sum_upper35\tb=0.019, exp(b)=1.020, pval=0.000\n",
      "Optimization terminated successfully.\n",
      "         Current function value: 0.213957\n",
      "         Iterations 7\n",
      "sum_upper40\tb=0.021, exp(b)=1.022, pval=0.000\n",
      "Optimization terminated successfully.\n",
      "         Current function value: 0.214127\n",
      "         Iterations 7\n",
      "sum_upper45\tb=0.023, exp(b)=1.023, pval=0.000\n",
      "Optimization terminated successfully.\n",
      "         Current function value: 0.214318\n",
      "         Iterations 7\n",
      "sum_upper50\tb=0.023, exp(b)=1.023, pval=0.001\n",
      "Optimization terminated successfully.\n",
      "         Current function value: 0.214480\n",
      "         Iterations 7\n",
      "sum_upper55\tb=0.021, exp(b)=1.021, pval=0.005\n",
      "Optimization terminated successfully.\n",
      "         Current function value: 0.214603\n",
      "         Iterations 7\n",
      "sum_upper60\tb=0.019, exp(b)=1.019, pval=0.017\n",
      "Optimization terminated successfully.\n",
      "         Current function value: 0.214695\n",
      "         Iterations 7\n",
      "sum_upper65\tb=0.017, exp(b)=1.017, pval=0.039\n",
      "Optimization terminated successfully.\n",
      "         Current function value: 0.214766\n",
      "         Iterations 7\n",
      "sum_upper70\tb=0.015, exp(b)=1.015, pval=0.078\n",
      "Optimization terminated successfully.\n",
      "         Current function value: 0.214802\n",
      "         Iterations 7\n",
      "sum_upper75\tb=0.014, exp(b)=1.014, pval=0.120\n",
      "Optimization terminated successfully.\n",
      "         Current function value: 0.214828\n",
      "         Iterations 7\n",
      "sum_upper80\tb=0.013, exp(b)=1.013, pval=0.180\n",
      "Optimization terminated successfully.\n",
      "         Current function value: 0.214847\n",
      "         Iterations 7\n",
      "sum_upper85\tb=0.012, exp(b)=1.012, pval=0.262\n",
      "Optimization terminated successfully.\n",
      "         Current function value: 0.214859\n",
      "         Iterations 7\n",
      "sum_upper90\tb=0.012, exp(b)=1.012, pval=0.345\n",
      "Optimization terminated successfully.\n",
      "         Current function value: 0.214869\n",
      "         Iterations 7\n",
      "sum_upper95\tb=0.011, exp(b)=1.012, pval=0.447\n"
     ]
    }
   ],
   "source": [
    "# np.nanmean(bsr>thres)에 대한 odds ratio\n",
    "odd_ratios = []\n",
    "for thres in bsr_thresholds:\n",
    "    c = 'sum_upper{}'.format(thres)\n",
    "    model = sm.Logit(df_data['POD'], df_data[['intercept', c]])\n",
    "    res = model.fit()\n",
    "    b = res.params[c]\n",
    "    pval = res.pvalues[c]\n",
    "    odd_ratios.append(np.exp(b))\n",
    "    print('{}\\tb={:.3f}, exp(b)={:.3f}, pval={:.3f}'.format(c, b, np.exp(b), pval))"
   ]
  },
  {
   "cell_type": "code",
   "execution_count": 18,
   "id": "14100ffb-ab90-42b0-ab50-11990344cebc",
   "metadata": {
    "execution": {
     "iopub.execute_input": "2023-08-22T04:43:30.503566Z",
     "iopub.status.busy": "2023-08-22T04:43:30.503140Z",
     "iopub.status.idle": "2023-08-22T04:43:30.655973Z",
     "shell.execute_reply": "2023-08-22T04:43:30.655371Z",
     "shell.execute_reply.started": "2023-08-22T04:43:30.503531Z"
    },
    "tags": []
   },
   "outputs": [
    {
     "data": {
      "image/png": "[encoded data removed]",
      "text/plain": [
       "<Figure size 432x288 with 1 Axes>"
      ]
     },
     "metadata": {
      "needs_background": "light"
     },
     "output_type": "display_data"
    }
   ],
   "source": [
    "import matplotlib.pyplot as plt\n",
    "\n",
    "plt.plot(bsr_thresholds, odd_ratios)\n",
    "plt.title('odds ratio of sum(bsr>thres)')\n",
    "plt.xlabel('BSR threshold')\n",
    "plt.ylabel('Odds ratio')\n",
    "plt.show()"
   ]
  },
  {
   "cell_type": "markdown",
   "id": "a6379a5c-02ed-4c1b-9e29-72a70a6a15cc",
   "metadata": {},
   "source": [
    "## odds ratio for mean(bsr>thres)"
   ]
  },
  {
   "cell_type": "markdown",
   "id": "f1d25192-bfff-4e13-8a7c-c3fb27723b57",
   "metadata": {},
   "source": [
    "### unit(min), no max"
   ]
  },
  {
   "cell_type": "code",
   "execution_count": 20,
   "id": "d6be66af-cd0b-4fa0-8bbf-9b5a4a25ed2b",
   "metadata": {
    "collapsed": true,
    "execution": {
     "iopub.execute_input": "2023-08-22T05:20:52.117167Z",
     "iopub.status.busy": "2023-08-22T05:20:52.116719Z",
     "iopub.status.idle": "2023-08-22T05:20:52.478962Z",
     "shell.execute_reply": "2023-08-22T05:20:52.478201Z",
     "shell.execute_reply.started": "2023-08-22T05:20:52.117127Z"
    },
    "jupyter": {
     "outputs_hidden": true
    },
    "tags": []
   },
   "outputs": [
    {
     "name": "stdout",
     "output_type": "stream",
     "text": [
      "Optimization terminated successfully.\n",
      "         Current function value: 0.207208\n",
      "         Iterations 8\n",
      "mean_upper0\tb=137.492, exp(b)=515452909339056119731372982846532979721324314292975663316992.000, pval=0.000\n",
      "Optimization terminated successfully.\n",
      "         Current function value: 0.211078\n",
      "         Iterations 7\n",
      "mean_upper5\tb=155.315, exp(b)=28354238304625334071655831634051548373275131347941120847868864757760.000, pval=0.000\n",
      "Optimization terminated successfully.\n",
      "         Current function value: 0.211839\n",
      "         Iterations 7\n",
      "mean_upper10\tb=175.221, exp(b)=12520057331532923449704425843896414431109940528091586270444889774235139964928.000, pval=0.000\n",
      "Optimization terminated successfully.\n",
      "         Current function value: 0.212378\n",
      "         Iterations 7\n",
      "mean_upper15\tb=191.710, exp(b)=181298724472797388085726525361059143016246950987695292817914863654706686018948431872.000, pval=0.000\n",
      "Optimization terminated successfully.\n",
      "         Current function value: 0.212794\n",
      "         Iterations 8\n",
      "mean_upper20\tb=211.393, exp(b)=64103939763483979085358239671517024628432317564239550217754359159675214940615047038736793600.000, pval=0.000\n",
      "Optimization terminated successfully.\n",
      "         Current function value: 0.213168\n",
      "         Iterations 8\n",
      "mean_upper25\tb=230.493, exp(b)=12639438149337042305226278502982155766014546234030113922885427066205561687343022911032702639630450688.000, pval=0.000\n",
      "Optimization terminated successfully.\n",
      "         Current function value: 0.213507\n",
      "         Iterations 8\n",
      "mean_upper30\tb=249.657, exp(b)=2657870423847187916625412691393484854292515754382564607879193403069667641823593202485248505908054036521680896.000, pval=0.000\n",
      "Optimization terminated successfully.\n",
      "         Current function value: 0.213825\n",
      "         Iterations 8\n",
      "mean_upper35\tb=267.595, exp(b)=164067098805431706291239010583286654044065164870635605353657757252078730997450285685610271580618309402252904490860544.000, pval=0.000\n",
      "Optimization terminated successfully.\n",
      "         Current function value: 0.214027\n",
      "         Iterations 8\n",
      "mean_upper40\tb=285.400, exp(b)=8863858073797330172921031993214460701215884675693796160153486325175488606236069865862024655446620956466252938680424271446016.000, pval=0.000\n",
      "Optimization terminated successfully.\n",
      "         Current function value: 0.214177\n",
      "         Iterations 9\n",
      "mean_upper45\tb=301.001, exp(b)=52856137075798637140618911904950267915735236224276210069433017960096964407556898391429656501126946453004206846493697388470685663232.000, pval=0.000\n",
      "Optimization terminated successfully.\n",
      "         Current function value: 0.214350\n",
      "         Iterations 9\n",
      "mean_upper50\tb=295.908, exp(b)=324378339213336114464664303458348260194163117150492791679702199482924294025170772268485238917068012542735564804320463317085716480.000, pval=0.001\n",
      "Optimization terminated successfully.\n",
      "         Current function value: 0.214508\n",
      "         Iterations 9\n",
      "mean_upper55\tb=273.551, exp(b)=63358550216860425999500719228146174549729648520407426886933973629770060112919345011803445861833767597673051080240398336.000, pval=0.003\n",
      "Optimization terminated successfully.\n",
      "         Current function value: 0.214637\n",
      "         Iterations 9\n",
      "mean_upper60\tb=253.086, exp(b)=82026319270885718917626250714056654050967670738735698518017309677067097384450301923742296152943316864944046080.000, pval=0.011\n",
      "Optimization terminated successfully.\n",
      "         Current function value: 0.214728\n",
      "         Iterations 9\n",
      "mean_upper65\tb=236.306, exp(b)=4232366658337925553945799377149432198220477183522583183005396792185107799194568570694573631870997626880.000, pval=0.035\n",
      "Optimization terminated successfully.\n",
      "         Current function value: 0.214795\n",
      "         Iterations 9\n",
      "mean_upper70\tb=215.733, exp(b)=4916374513088259988326776148956707872013182695363667931497619273431628473434147050678346842112.000, pval=0.102\n",
      "Optimization terminated successfully.\n",
      "         Current function value: 0.214829\n",
      "         Iterations 9\n",
      "mean_upper75\tb=196.783, exp(b)=28948892952833669137252836090191842557671655392903170083513473167821082542132403634176.000, pval=0.182\n",
      "Optimization terminated successfully.\n",
      "         Current function value: 0.214849\n",
      "         Iterations 10\n",
      "mean_upper80\tb=180.810, exp(b)=3348743923411087608841405248106962797050569376643131686595744748320390559825920.000, pval=0.275\n",
      "Optimization terminated successfully.\n",
      "         Current function value: 0.214862\n",
      "         Iterations 10\n",
      "mean_upper85\tb=172.150, exp(b)=580426063840707133059686999652109571060396463420040661900251267063661723648.000, pval=0.369\n",
      "Optimization terminated successfully.\n",
      "         Current function value: 0.214867\n",
      "         Iterations 11\n",
      "mean_upper90\tb=172.955, exp(b)=1298257121284512860800601306099855725124907768842071795653824731143374635008.000, pval=0.429\n",
      "Optimization terminated successfully.\n",
      "         Current function value: 0.214869\n",
      "         Iterations 12\n",
      "mean_upper95\tb=192.523, exp(b)=409124678651017535508148189699137053481926403061097974783699938125984935695131607040.000, pval=0.452\n"
     ]
    }
   ],
   "source": [
    "# np.nanmean(bsr>thres)에 대한 odds ratio\n",
    "odd_ratios = []\n",
    "for thres in bsr_thresholds:\n",
    "    c = 'mean_upper{}'.format(thres)\n",
    "    model = sm.Logit(df_data['POD'], df_data[['intercept', c]])\n",
    "    res = model.fit()\n",
    "    b = res.params[c]\n",
    "    pval = res.pvalues[c]\n",
    "    odd_ratios.append(np.exp(b))\n",
    "    print('{}\\tb={:.3f}, exp(b)={:.3f}, pval={:.3f}'.format(c, b, np.exp(b), pval))"
   ]
  },
  {
   "cell_type": "code",
   "execution_count": 21,
   "id": "21f8f4eb-6530-468a-9c76-b6db60daed5f",
   "metadata": {
    "collapsed": true,
    "execution": {
     "iopub.execute_input": "2023-08-22T05:20:59.348776Z",
     "iopub.status.busy": "2023-08-22T05:20:59.347858Z",
     "iopub.status.idle": "2023-08-22T05:20:59.491022Z",
     "shell.execute_reply": "2023-08-22T05:20:59.490260Z",
     "shell.execute_reply.started": "2023-08-22T05:20:59.348725Z"
    },
    "jupyter": {
     "outputs_hidden": true
    },
    "tags": []
   },
   "outputs": [
    {
     "data": {
      "image/png": "[encoded data removed]",
      "text/plain": [
       "<Figure size 432x288 with 1 Axes>"
      ]
     },
     "metadata": {
      "needs_background": "light"
     },
     "output_type": "display_data"
    }
   ],
   "source": [
    "import matplotlib.pyplot as plt\n",
    "\n",
    "plt.plot(bsr_thresholds, odd_ratios)\n",
    "plt.title('odds ratio of mean(bsr>thres)')\n",
    "plt.xlabel('BSR threshold')\n",
    "plt.ylabel('Odds ratio')\n",
    "plt.show()"
   ]
  },
  {
   "cell_type": "code",
   "execution_count": 23,
   "id": "47ff9479-4508-465a-8dc7-f9dc84e43ce3",
   "metadata": {
    "execution": {
     "iopub.execute_input": "2023-08-22T05:21:42.009418Z",
     "iopub.status.busy": "2023-08-22T05:21:42.008902Z",
     "iopub.status.idle": "2023-08-22T05:21:42.019325Z",
     "shell.execute_reply": "2023-08-22T05:21:42.018404Z",
     "shell.execute_reply.started": "2023-08-22T05:21:42.009368Z"
    },
    "tags": []
   },
   "outputs": [
    {
     "data": {
      "text/plain": [
       "0        0.000000\n",
       "1        0.007043\n",
       "2        0.000128\n",
       "3        0.000000\n",
       "4        0.000000\n",
       "           ...   \n",
       "11509    0.002065\n",
       "11510    0.003193\n",
       "11511    0.000000\n",
       "11512    0.000114\n",
       "11513    0.000000\n",
       "Name: mean_upper0, Length: 11514, dtype: float64"
      ]
     },
     "execution_count": 23,
     "metadata": {},
     "output_type": "execute_result"
    }
   ],
   "source": [
    "df_data['mean_upper0']"
   ]
  },
  {
   "cell_type": "markdown",
   "id": "e80f8d96-9437-4990-b3e3-072259c25f5f",
   "metadata": {},
   "source": [
    "## odds ratio for twa(time-weighted average)"
   ]
  },
  {
   "cell_type": "code",
   "execution_count": 3,
   "id": "e0aefd55-29a1-46c3-8495-c23fb58ac9fa",
   "metadata": {
    "execution": {
     "iopub.execute_input": "2023-08-30T02:22:29.299220Z",
     "iopub.status.busy": "2023-08-30T02:22:29.298820Z",
     "iopub.status.idle": "2023-08-30T02:22:38.551212Z",
     "shell.execute_reply": "2023-08-30T02:22:38.550520Z",
     "shell.execute_reply.started": "2023-08-30T02:22:29.299184Z"
    },
    "tags": []
   },
   "outputs": [
    {
     "name": "stderr",
     "output_type": "stream",
     "text": [
      "100%|██████████| 11514/11514 [00:08<00:00, 1290.84it/s]\n"
     ]
    }
   ],
   "source": [
    "import statsmodels.api as sm\n",
    "from sklearn import metrics\n",
    "from tqdm import tqdm\n",
    "\n",
    "#bsr_thresholds = [0.1, 0.2, 0.3, 0.4, 0.5, 0.6, 0.7, 0.8, 0.9]\n",
    "bsr_thresholds = np.arange(0,100,5)\n",
    "\n",
    "odd_ratios = []\n",
    "cums, outputs = [], []\n",
    "for idx, row in tqdm(df_data.iterrows(), total = df_data.shape[0]):\n",
    "    bsr = np.array(row['bsr_track'], dtype=np.float32)\n",
    "    bsr = bsr[(bsr>=0) & (bsr<=100)]\n",
    "    \n",
    "    if len(bsr) < 10:\n",
    "        print('caseid {}: no bsr'.format(row['fileid']))\n",
    "        df_data.drop([idx], axis=0, inplace=True)\n",
    "        continue\n",
    "\n",
    "    # time weighted average of bsr\n",
    "    df_data.loc[idx,f'twa'] = np.trapz(bsr) / len(bsr)\n",
    "    df_data.loc[idx,f'tws'] = np.trapz(bsr)"
   ]
  },
  {
   "cell_type": "code",
   "execution_count": 132,
   "id": "2ea0bfd4-e236-4128-ba2c-5e0566c42986",
   "metadata": {
    "execution": {
     "iopub.execute_input": "2023-08-28T08:18:57.084167Z",
     "iopub.status.busy": "2023-08-28T08:18:57.083675Z",
     "iopub.status.idle": "2023-08-28T08:18:57.106903Z",
     "shell.execute_reply": "2023-08-28T08:18:57.106011Z",
     "shell.execute_reply.started": "2023-08-28T08:18:57.084119Z"
    },
    "tags": []
   },
   "outputs": [
    {
     "name": "stdout",
     "output_type": "stream",
     "text": [
      "Optimization terminated successfully.\n",
      "         Current function value: 0.212093\n",
      "         Iterations 7\n",
      "twa\tb=0.082, exp(b)=1.086, pval=0.000\n"
     ]
    }
   ],
   "source": [
    "c = 'twa'\n",
    "model = sm.Logit(df_data['POD'], df_data[['intercept', c]])\n",
    "res = model.fit()\n",
    "b = res.params[c]\n",
    "pval = res.pvalues[c]\n",
    "print('{}\\tb={:.3f}, exp(b)={:.3f}, pval={:.3f}'.format(c, b, np.exp(b), pval))"
   ]
  },
  {
   "cell_type": "code",
   "execution_count": 133,
   "id": "b7db4760-db97-4799-ad22-14717c05fcc8",
   "metadata": {
    "execution": {
     "iopub.execute_input": "2023-08-28T08:19:30.291491Z",
     "iopub.status.busy": "2023-08-28T08:19:30.290999Z",
     "iopub.status.idle": "2023-08-28T08:19:30.533814Z",
     "shell.execute_reply": "2023-08-28T08:19:30.533329Z",
     "shell.execute_reply.started": "2023-08-28T08:19:30.291442Z"
    },
    "tags": []
   },
   "outputs": [
    {
     "data": {
      "text/plain": [
       "<AxesSubplot:xlabel='twa', ylabel='POD'>"
      ]
     },
     "execution_count": 133,
     "metadata": {},
     "output_type": "execute_result"
    },
    {
     "data": {
      "image/png": "[encoded data removed]",
      "text/plain": [
       "<Figure size 432x288 with 1 Axes>"
      ]
     },
     "metadata": {
      "needs_background": "light"
     },
     "output_type": "display_data"
    }
   ],
   "source": [
    "import matplotlib.pyplot as plt\n",
    "import seaborn as sns\n",
    "\n",
    "#plt.scatter(df_data['twa'], df_data['POD'])\n",
    "#plt.xlabel('TWA')\n",
    "#plt.ylabel('POD outcome')\n",
    "sns.regplot(x=df_data['twa'], y=df_data['POD'],  logistic=True, ci=None)"
   ]
  },
  {
   "cell_type": "code",
   "execution_count": 139,
   "id": "da053231-a271-404e-bf7a-2560cafb8b4d",
   "metadata": {
    "execution": {
     "iopub.execute_input": "2023-08-28T08:27:08.311307Z",
     "iopub.status.busy": "2023-08-28T08:27:08.310868Z",
     "iopub.status.idle": "2023-08-28T08:27:08.318163Z",
     "shell.execute_reply": "2023-08-28T08:27:08.317373Z",
     "shell.execute_reply.started": "2023-08-28T08:27:08.311266Z"
    },
    "tags": []
   },
   "outputs": [
    {
     "data": {
      "text/plain": [
       "0.9877540385617509"
      ]
     },
     "execution_count": 139,
     "metadata": {},
     "output_type": "execute_result"
    }
   ],
   "source": [
    "twa= df_data['twa'].values\n",
    "np.mean(twa<10)"
   ]
  },
  {
   "cell_type": "code",
   "execution_count": 126,
   "id": "0b0cc61e-1441-4e67-a950-d47ac78ef0e2",
   "metadata": {
    "execution": {
     "iopub.execute_input": "2023-08-28T08:14:27.754073Z",
     "iopub.status.busy": "2023-08-28T08:14:27.753623Z",
     "iopub.status.idle": "2023-08-28T08:14:27.999312Z",
     "shell.execute_reply": "2023-08-28T08:14:27.998778Z",
     "shell.execute_reply.started": "2023-08-28T08:14:27.754030Z"
    },
    "tags": []
   },
   "outputs": [
    {
     "data": {
      "text/plain": [
       "<AxesSubplot:ylabel='POD'>"
      ]
     },
     "execution_count": 126,
     "metadata": {},
     "output_type": "execute_result"
    },
    {
     "data": {
      "image/png": "[encoded data removed]",
      "text/plain": [
       "<Figure size 432x288 with 1 Axes>"
      ]
     },
     "metadata": {
      "needs_background": "light"
     },
     "output_type": "display_data"
    }
   ],
   "source": [
    "import seaborn as sns\n",
    "\n",
    "twa = df_data['twa'].values\n",
    "twa[twa>40] = 40\n",
    "\n",
    "\n",
    "#plot logistic regression curve\n",
    "sns.regplot(x=twa, y=df_data['POD'],  logistic=True, ci=None)"
   ]
  },
  {
   "cell_type": "code",
   "execution_count": 129,
   "id": "a965d882-d04c-4c1b-a376-fa8f93f4dfec",
   "metadata": {
    "execution": {
     "iopub.execute_input": "2023-08-28T08:15:58.510372Z",
     "iopub.status.busy": "2023-08-28T08:15:58.509981Z",
     "iopub.status.idle": "2023-08-28T08:15:58.710002Z",
     "shell.execute_reply": "2023-08-28T08:15:58.709419Z",
     "shell.execute_reply.started": "2023-08-28T08:15:58.510335Z"
    },
    "tags": []
   },
   "outputs": [
    {
     "data": {
      "text/plain": [
       "<AxesSubplot:xlabel='twa', ylabel='POD'>"
      ]
     },
     "execution_count": 129,
     "metadata": {},
     "output_type": "execute_result"
    },
    {
     "data": {
      "image/png": "[encoded data removed]",
      "text/plain": [
       "<Figure size 432x288 with 1 Axes>"
      ]
     },
     "metadata": {
      "needs_background": "light"
     },
     "output_type": "display_data"
    }
   ],
   "source": [
    "sns.regplot(x=df_data['twa'], y=df_data['POD'],  logistic=True, ci=None)"
   ]
  },
  {
   "cell_type": "markdown",
   "id": "582c73b7-2090-4dfe-aef8-2074f53f81fc",
   "metadata": {},
   "source": [
    "### time-weighted sum"
   ]
  },
  {
   "cell_type": "code",
   "execution_count": 137,
   "id": "05ed5c4f-2e31-4bca-96ef-a5c063fafb43",
   "metadata": {
    "execution": {
     "iopub.execute_input": "2023-08-28T08:23:20.971231Z",
     "iopub.status.busy": "2023-08-28T08:23:20.970758Z",
     "iopub.status.idle": "2023-08-28T08:23:20.998128Z",
     "shell.execute_reply": "2023-08-28T08:23:20.997341Z",
     "shell.execute_reply.started": "2023-08-28T08:23:20.971182Z"
    },
    "tags": []
   },
   "outputs": [
    {
     "name": "stdout",
     "output_type": "stream",
     "text": [
      "Optimization terminated successfully.\n",
      "         Current function value: 0.212015\n",
      "         Iterations 7\n",
      "tws\tb=0.000, exp(b)=1.0000056655622562, pval=0.000\n"
     ]
    }
   ],
   "source": [
    "c = 'tws'\n",
    "model = sm.Logit(df_data['POD'], df_data[['intercept', c]])\n",
    "res = model.fit()\n",
    "b = res.params[c]\n",
    "pval = res.pvalues[c]\n",
    "print('{}\\tb={:.3f}, exp(b)={:}, pval={:.3f}'.format(c, b, np.exp(b), pval))"
   ]
  },
  {
   "cell_type": "code",
   "execution_count": 140,
   "id": "b69e09a5-2b81-41b1-8b08-88de9971e8b8",
   "metadata": {
    "execution": {
     "iopub.execute_input": "2023-08-28T08:29:41.368815Z",
     "iopub.status.busy": "2023-08-28T08:29:41.368336Z",
     "iopub.status.idle": "2023-08-28T08:29:41.551292Z",
     "shell.execute_reply": "2023-08-28T08:29:41.550522Z",
     "shell.execute_reply.started": "2023-08-28T08:29:41.368767Z"
    },
    "tags": []
   },
   "outputs": [
    {
     "data": {
      "text/plain": [
       "<AxesSubplot:xlabel='tws', ylabel='POD'>"
      ]
     },
     "execution_count": 140,
     "metadata": {},
     "output_type": "execute_result"
    },
    {
     "data": {
      "image/png": "[encoded data removed]",
      "text/plain": [
       "<Figure size 432x288 with 1 Axes>"
      ]
     },
     "metadata": {
      "needs_background": "light"
     },
     "output_type": "display_data"
    }
   ],
   "source": [
    "import matplotlib.pyplot as plt\n",
    "import seaborn as sns\n",
    "\n",
    "\n",
    "sns.regplot(x=df_data['tws'], y=df_data['POD'],  logistic=True, ci=None)"
   ]
  },
  {
   "cell_type": "code",
   "execution_count": 142,
   "id": "64ecca84-e427-41e5-99d8-ea7db4a25c34",
   "metadata": {
    "execution": {
     "iopub.execute_input": "2023-08-28T08:32:57.877241Z",
     "iopub.status.busy": "2023-08-28T08:32:57.876750Z",
     "iopub.status.idle": "2023-08-28T08:32:58.086087Z",
     "shell.execute_reply": "2023-08-28T08:32:58.085036Z",
     "shell.execute_reply.started": "2023-08-28T08:32:57.877194Z"
    },
    "tags": []
   },
   "outputs": [
    {
     "data": {
      "text/plain": [
       "<AxesSubplot:xlabel='tws', ylabel='POD'>"
      ]
     },
     "execution_count": 142,
     "metadata": {},
     "output_type": "execute_result"
    },
    {
     "data": {
      "image/png": "[encoded data removed]",
      "text/plain": [
       "<Figure size 432x288 with 1 Axes>"
      ]
     },
     "metadata": {
      "needs_background": "light"
     },
     "output_type": "display_data"
    }
   ],
   "source": [
    "import seaborn as sns\n",
    "\n",
    "tws = df_data['tws'].values\n",
    "tws[tws>0.8*1000000] = 0.8 * 1000000\n",
    "\n",
    "#plot logistic regression curve\n",
    "sns.regplot(x=df_data['tws'], y=df_data['POD'],  logistic=True, ci=None)"
   ]
  },
  {
   "cell_type": "code",
   "execution_count": 146,
   "id": "1b701854-05ac-4eed-991f-c0ca7a5fc16f",
   "metadata": {
    "execution": {
     "iopub.execute_input": "2023-08-28T08:38:33.920143Z",
     "iopub.status.busy": "2023-08-28T08:38:33.919796Z",
     "iopub.status.idle": "2023-08-28T08:38:33.934598Z",
     "shell.execute_reply": "2023-08-28T08:38:33.933924Z",
     "shell.execute_reply.started": "2023-08-28T08:38:33.920114Z"
    },
    "tags": []
   },
   "outputs": [
    {
     "data": {
      "text/plain": [
       "206.02524752475247"
      ]
     },
     "execution_count": 146,
     "metadata": {},
     "output_type": "execute_result"
    }
   ],
   "source": [
    "op_times = df_data['bsr_track'].apply(lambda x: len(x))\n",
    "np.mean(op_times)/60"
   ]
  },
  {
   "cell_type": "code",
   "execution_count": null,
   "id": "d0b9e2dd-bd9f-4847-acd5-2e6a67ae4cc2",
   "metadata": {},
   "outputs": [],
   "source": []
  },
  {
   "cell_type": "markdown",
   "id": "f0b67793-d321-4481-bb7c-3a50eec388aa",
   "metadata": {},
   "source": [
    "# ROC"
   ]
  },
  {
   "cell_type": "markdown",
   "id": "0c4f51aa-7a30-4d5e-8237-d4a823307f0d",
   "metadata": {},
   "source": [
    "## Plot"
   ]
  },
  {
   "cell_type": "code",
   "execution_count": 11,
   "id": "38d79529-dbd0-42f7-99ef-36b8f0269943",
   "metadata": {
    "execution": {
     "iopub.execute_input": "2023-08-31T04:59:52.647321Z",
     "iopub.status.busy": "2023-08-31T04:59:52.646819Z",
     "iopub.status.idle": "2023-08-31T04:59:52.844940Z",
     "shell.execute_reply": "2023-08-31T04:59:52.844450Z",
     "shell.execute_reply.started": "2023-08-31T04:59:52.647267Z"
    },
    "tags": []
   },
   "outputs": [
    {
     "name": "stdout",
     "output_type": "stream",
     "text": [
      "TWA test set auroc: 0.644160713545253\n",
      "TWS test set auroc: 0.6514734791543781\n",
      "sum test set auroc: 0.6583646276045101\n",
      "TWA test set auroc: 0.649282389947304\n"
     ]
    },
    {
     "data": {
      "image/png": "[encoded data removed]",
      "text/plain": [
       "<Figure size 432x288 with 1 Axes>"
      ]
     },
     "metadata": {
      "needs_background": "light"
     },
     "output_type": "display_data"
    }
   ],
   "source": [
    "import numpy as np\n",
    "from sklearn.metrics import roc_curve, auc, r2_score\n",
    "import matplotlib.pyplot as plt\n",
    "\n",
    "\n",
    "false_positive_rate, true_positive_rate, threshold = roc_curve(df_data['POD'], df_data['twa'])\n",
    "roc_auc_twa = auc(false_positive_rate, true_positive_rate)\n",
    "print('TWA test set auroc:', roc_auc_twa)\n",
    "\n",
    "false_positive_rate2, true_positive_rate2, threshold2 = roc_curve(df_data['POD'], df_data['tws'])\n",
    "roc_auc_tws = auc(false_positive_rate2, true_positive_rate2)\n",
    "print('TWS test set auroc:', roc_auc_tws)\n",
    "\n",
    "false_positive_rate3, true_positive_rate3, threshold3 = roc_curve(df_data['POD'], df_data['sum>0'])\n",
    "roc_auc_sum = auc(false_positive_rate3, true_positive_rate3)\n",
    "print('sum test set auroc:', roc_auc_sum)\n",
    "\n",
    "false_positive_rate4, true_positive_rate4, threshold = roc_curve(df_data['POD'], df_data['mean>0'])\n",
    "roc_auc_mean = auc(false_positive_rate4, true_positive_rate4)\n",
    "print('TWA test set auroc:', roc_auc_mean)\n",
    "\n",
    "# plotting\n",
    "plt.figure()\n",
    "plt.plot(false_positive_rate, true_positive_rate, label='TWA (area = %0.2f)' % roc_auc_twa, c='b')\n",
    "plt.plot(false_positive_rate2, true_positive_rate2, label='TWS (area = %0.2f)' % roc_auc_tws, c='r')\n",
    "plt.plot(false_positive_rate3, true_positive_rate3, label='sum(BSR>0) (area = %0.2f)' % roc_auc_sum, c='g')\n",
    "plt.plot(false_positive_rate4, true_positive_rate4, label='mean(BSR>0) (area = %0.2f)' % roc_auc_mean, c='y')\n",
    "plt.plot([0, 1], [0, 1], 'k--')\n",
    "plt.xlim([0.0, 1.0])\n",
    "plt.ylim([0.0, 1.05])\n",
    "plt.xlabel('False Positive Rate')\n",
    "plt.ylabel('True Positive Rate')\n",
    "plt.title('Receiver operating characteristic curve of MBP, HR')\n",
    "plt.legend(loc=\"lower right\")\n",
    "plt.show()"
   ]
  },
  {
   "cell_type": "code",
   "execution_count": 13,
   "id": "eb623849-caf9-4ab7-9648-4afaead8e4ec",
   "metadata": {
    "execution": {
     "iopub.execute_input": "2023-08-31T05:00:28.159478Z",
     "iopub.status.busy": "2023-08-31T05:00:28.158942Z",
     "iopub.status.idle": "2023-08-31T05:00:28.167581Z",
     "shell.execute_reply": "2023-08-31T05:00:28.166567Z",
     "shell.execute_reply.started": "2023-08-31T05:00:28.159409Z"
    },
    "tags": []
   },
   "outputs": [
    {
     "data": {
      "text/plain": [
       "15.556916217937584"
      ]
     },
     "execution_count": 13,
     "metadata": {},
     "output_type": "execute_result"
    }
   ],
   "source": [
    "np.mean(df_data['sum>0'])/60"
   ]
  },
  {
   "cell_type": "markdown",
   "id": "ece5bdbd-4224-42ff-89ed-43fe5927cd58",
   "metadata": {},
   "source": [
    "### Delong method"
   ]
  },
  {
   "cell_type": "code",
   "execution_count": null,
   "id": "42540d49-9684-4924-b1da-58ff47fe9df9",
   "metadata": {},
   "outputs": [],
   "source": [
    "from keras.models import model_from_json\n",
    "import delong\n",
    "\n",
    "#i for items / j for models\n",
    "for j in range(3):\n",
    "    load_path = loads[j]\n",
    "    \n",
    "    #model 부르기\n",
    "    load_weight_path = load_path+'/weights.hdf5'\n",
    "\n",
    "    print('loading model...', flush=True, end='')\n",
    "    with open(load_path+\"/model.json\", 'r') as f_json:\n",
    "        loaded_model_json = f_json.read()\n",
    "    loaded_model = model_from_json(loaded_model_json)\n",
    "    print('done')\n",
    "    \n",
    "    print('loading weights...', flush=True, end='')\n",
    "    loaded_model.load_weights(load_weight_path)\n",
    "    print('done')\n",
    "\n",
    "    for i in range(3):\n",
    "        result = 0 \n",
    "        index=3*i+j\n",
    "        x_test_model = x_tests[index]\n",
    "        x = xs[i]\n",
    "        y = ys[i]                \n",
    "        \n",
    "        y_pred = loaded_model.predict(x_test_model).flatten()\n",
    "        \n",
    "        #delong 계산하기\n",
    "        actual = y\n",
    "        preds_A = x\n",
    "        preds_B = y_pred\n",
    "        \n",
    "        result = delong.delong_roc_test(actual, preds_A, preds_B)\n",
    "        df_delong.iloc[i,j]=result\n",
    "\n",
    "print(df_delong)        "
   ]
  }
 ],
 "metadata": {
  "kernelspec": {
   "display_name": "keras",
   "language": "python",
   "name": "painstudy_keras"
  },
  "language_info": {
   "codemirror_mode": {
    "name": "ipython",
    "version": 3
   },
   "file_extension": ".py",
   "mimetype": "text/x-python",
   "name": "python",
   "nbconvert_exporter": "python",
   "pygments_lexer": "ipython3",
   "version": "3.8.12"
  }
 },
 "nbformat": 4,
 "nbformat_minor": 5
}
