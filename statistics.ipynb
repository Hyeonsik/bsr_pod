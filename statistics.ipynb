{
 "cells": [
  {
   "cell_type": "markdown",
   "id": "6feec5de-6889-40a1-83e0-f39393c4f2e2",
   "metadata": {
    "jp-MarkdownHeadingCollapsed": true,
    "tags": []
   },
   "source": [
    "## Analysis of previous data"
   ]
  },
  {
   "cell_type": "code",
   "execution_count": 1,
   "id": "f48f5f2d-bc9f-49b3-9493-31d63938b156",
   "metadata": {
    "execution": {
     "iopub.execute_input": "2023-06-26T08:22:01.661033Z",
     "iopub.status.busy": "2023-06-26T08:22:01.660450Z",
     "iopub.status.idle": "2023-06-26T08:22:47.867238Z",
     "shell.execute_reply": "2023-06-26T08:22:47.866710Z",
     "shell.execute_reply.started": "2023-06-26T08:22:01.660883Z"
    },
    "tags": []
   },
   "outputs": [
    {
     "data": {
      "text/plain": [
       "array([[nan, nan, 14868],\n",
       "       [nan, nan, 14868],\n",
       "       [97.5999984741211, 0.0, 14868],\n",
       "       ...,\n",
       "       [39.20000076293945, 0.0, 13915],\n",
       "       [39.20000076293945, 0.0, 13915],\n",
       "       [39.20000076293945, 0.0, 13915]], dtype=object)"
      ]
     },
     "execution_count": 1,
     "metadata": {},
     "output_type": "execute_result"
    }
   ],
   "source": [
    "import numpy as np\n",
    "import pandas as pd\n",
    "\n",
    "data = np.load('npdata.npy', allow_pickle=True)\n",
    "df_info = pd.read_csv('info.csv')"
   ]
  },
  {
   "cell_type": "code",
   "execution_count": 12,
   "id": "8b01cc5e-4b8e-49ba-a602-7b72023ba1c3",
   "metadata": {
    "execution": {
     "iopub.execute_input": "2023-07-07T09:41:25.397406Z",
     "iopub.status.busy": "2023-07-07T09:41:25.396981Z",
     "iopub.status.idle": "2023-07-07T09:41:25.403965Z",
     "shell.execute_reply": "2023-07-07T09:41:25.402995Z",
     "shell.execute_reply.started": "2023-07-07T09:41:25.397359Z"
    },
    "tags": []
   },
   "outputs": [
    {
     "data": {
      "text/plain": [
       "10119"
      ]
     },
     "execution_count": 12,
     "metadata": {},
     "output_type": "execute_result"
    }
   ],
   "source": [
    "cnt = 0\n",
    "for idx, row in df_info.iterrows():\n",
    "    if len(row['ANES'])==2:\n",
    "        cnt += 1\n",
    "        \n",
    "cnt"
   ]
  },
  {
   "cell_type": "code",
   "execution_count": 104,
   "id": "a6786c84-c8e8-4793-a5f7-d0dcfc6c2947",
   "metadata": {
    "execution": {
     "iopub.execute_input": "2023-06-26T16:41:07.243653Z",
     "iopub.status.busy": "2023-06-26T16:41:07.243151Z",
     "iopub.status.idle": "2023-06-26T16:41:07.275676Z",
     "shell.execute_reply": "2023-06-26T16:41:07.274820Z",
     "shell.execute_reply.started": "2023-06-26T16:41:07.243601Z"
    },
    "tags": []
   },
   "outputs": [
    {
     "data": {
      "text/html": [
       "<div>\n",
       "<style scoped>\n",
       "    .dataframe tbody tr th:only-of-type {\n",
       "        vertical-align: middle;\n",
       "    }\n",
       "\n",
       "    .dataframe tbody tr th {\n",
       "        vertical-align: top;\n",
       "    }\n",
       "\n",
       "    .dataframe thead th {\n",
       "        text-align: right;\n",
       "    }\n",
       "</style>\n",
       "<table border=\"1\" class=\"dataframe\">\n",
       "  <thead>\n",
       "    <tr style=\"text-align: right;\">\n",
       "      <th></th>\n",
       "      <th>caseNo</th>\n",
       "      <th>opdate</th>\n",
       "      <th>adm.date</th>\n",
       "      <th>dc.date</th>\n",
       "      <th>ane.start</th>\n",
       "      <th>op.start</th>\n",
       "      <th>op.end</th>\n",
       "      <th>ane.end</th>\n",
       "      <th>delirium.keyword.new</th>\n",
       "      <th>fileid</th>\n",
       "      <th>BSR_track</th>\n",
       "      <th>BIS</th>\n",
       "      <th>ANES</th>\n",
       "      <th>BSR</th>\n",
       "    </tr>\n",
       "  </thead>\n",
       "  <tbody>\n",
       "    <tr>\n",
       "      <th>0</th>\n",
       "      <td>4</td>\n",
       "      <td>2019-01-02</td>\n",
       "      <td>2019-01-01</td>\n",
       "      <td>2019-01-06</td>\n",
       "      <td>2019-01-02T08:30:00Z</td>\n",
       "      <td>2019-01-02T09:20:00Z</td>\n",
       "      <td>2019-01-02T11:48:00Z</td>\n",
       "      <td>2019-01-02T11:52:00Z</td>\n",
       "      <td>0</td>\n",
       "      <td>E5_190102_084307.vital</td>\n",
       "      <td>NaN</td>\n",
       "      <td>True</td>\n",
       "      <td>[]</td>\n",
       "      <td>['BIS/SR']</td>\n",
       "    </tr>\n",
       "    <tr>\n",
       "      <th>1</th>\n",
       "      <td>5</td>\n",
       "      <td>2019-01-02</td>\n",
       "      <td>2019-01-01</td>\n",
       "      <td>2019-01-06</td>\n",
       "      <td>2019-01-02T08:37:00Z</td>\n",
       "      <td>2019-01-02T09:45:00Z</td>\n",
       "      <td>2019-01-02T12:44:00Z</td>\n",
       "      <td>2019-01-02T13:26:00Z</td>\n",
       "      <td>1</td>\n",
       "      <td>C5_190102_084101.vital</td>\n",
       "      <td>NaN</td>\n",
       "      <td>True</td>\n",
       "      <td>['Orchestra/PPF20_CE', 'Primus/EXP_SEVO']</td>\n",
       "      <td>['BIS/SR']</td>\n",
       "    </tr>\n",
       "    <tr>\n",
       "      <th>2</th>\n",
       "      <td>6</td>\n",
       "      <td>2019-01-02</td>\n",
       "      <td>2019-01-01</td>\n",
       "      <td>2019-01-06</td>\n",
       "      <td>2019-01-02T08:42:00Z</td>\n",
       "      <td>2019-01-02T09:35:00Z</td>\n",
       "      <td>2019-01-02T11:30:00Z</td>\n",
       "      <td>2019-01-02T11:39:00Z</td>\n",
       "      <td>0</td>\n",
       "      <td>F2_190102_084704.vital</td>\n",
       "      <td>NaN</td>\n",
       "      <td>True</td>\n",
       "      <td>['Primus/EXP_SEVO', 'Primus/EXP_DES']</td>\n",
       "      <td>['BIS/SR']</td>\n",
       "    </tr>\n",
       "    <tr>\n",
       "      <th>3</th>\n",
       "      <td>8</td>\n",
       "      <td>2019-01-02</td>\n",
       "      <td>2019-01-01</td>\n",
       "      <td>2019-01-06</td>\n",
       "      <td>2019-01-02T08:44:00Z</td>\n",
       "      <td>2019-01-02T09:25:00Z</td>\n",
       "      <td>2019-01-02T11:18:00Z</td>\n",
       "      <td>2019-01-02T11:34:00Z</td>\n",
       "      <td>0</td>\n",
       "      <td>F3_190102_084530.vital</td>\n",
       "      <td>NaN</td>\n",
       "      <td>True</td>\n",
       "      <td>['Orchestra/PPF20_CE', 'Primus/EXP_SEVO']</td>\n",
       "      <td>['BIS/SR']</td>\n",
       "    </tr>\n",
       "    <tr>\n",
       "      <th>4</th>\n",
       "      <td>10</td>\n",
       "      <td>2019-01-02</td>\n",
       "      <td>2019-01-01</td>\n",
       "      <td>2019-01-07</td>\n",
       "      <td>2019-01-02T11:05:00Z</td>\n",
       "      <td>2019-01-02T11:30:00Z</td>\n",
       "      <td>2019-01-02T14:11:00Z</td>\n",
       "      <td>2019-01-02T14:24:00Z</td>\n",
       "      <td>0</td>\n",
       "      <td>A2_190102_110753.vital</td>\n",
       "      <td>NaN</td>\n",
       "      <td>True</td>\n",
       "      <td>['Orchestra/PPF20_CE']</td>\n",
       "      <td>['BIS/SR']</td>\n",
       "    </tr>\n",
       "    <tr>\n",
       "      <th>...</th>\n",
       "      <td>...</td>\n",
       "      <td>...</td>\n",
       "      <td>...</td>\n",
       "      <td>...</td>\n",
       "      <td>...</td>\n",
       "      <td>...</td>\n",
       "      <td>...</td>\n",
       "      <td>...</td>\n",
       "      <td>...</td>\n",
       "      <td>...</td>\n",
       "      <td>...</td>\n",
       "      <td>...</td>\n",
       "      <td>...</td>\n",
       "      <td>...</td>\n",
       "    </tr>\n",
       "    <tr>\n",
       "      <th>25713</th>\n",
       "      <td>33138</td>\n",
       "      <td>2021-12-31</td>\n",
       "      <td>2021-12-29</td>\n",
       "      <td>2022-01-04</td>\n",
       "      <td>2021-12-31T14:25:00Z</td>\n",
       "      <td>2021-12-31T14:40:00Z</td>\n",
       "      <td>2021-12-31T16:19:00Z</td>\n",
       "      <td>2021-12-31T16:30:00Z</td>\n",
       "      <td>0</td>\n",
       "      <td>C3_211231_142318.vital</td>\n",
       "      <td>NaN</td>\n",
       "      <td>False</td>\n",
       "      <td>['Primus/EXP_DES']</td>\n",
       "      <td>['Intellivue/EEG_RATIO_SUPPRN']</td>\n",
       "    </tr>\n",
       "    <tr>\n",
       "      <th>25714</th>\n",
       "      <td>33139</td>\n",
       "      <td>2021-12-31</td>\n",
       "      <td>2021-12-30</td>\n",
       "      <td>2022-01-05</td>\n",
       "      <td>2021-12-31T14:55:00Z</td>\n",
       "      <td>2021-12-31T15:20:00Z</td>\n",
       "      <td>2021-12-31T20:04:00Z</td>\n",
       "      <td>2021-12-31T20:06:00Z</td>\n",
       "      <td>0</td>\n",
       "      <td>R3_211231_150413.vital</td>\n",
       "      <td>NaN</td>\n",
       "      <td>False</td>\n",
       "      <td>[]</td>\n",
       "      <td>['ROOT/SR']</td>\n",
       "    </tr>\n",
       "    <tr>\n",
       "      <th>25715</th>\n",
       "      <td>33140</td>\n",
       "      <td>2021-12-31</td>\n",
       "      <td>2021-12-30</td>\n",
       "      <td>2022-01-02</td>\n",
       "      <td>2021-12-31T15:05:00Z</td>\n",
       "      <td>2021-12-31T15:40:00Z</td>\n",
       "      <td>2021-12-31T18:29:00Z</td>\n",
       "      <td>2021-12-31T18:31:00Z</td>\n",
       "      <td>0</td>\n",
       "      <td>R2_211231_151607.vital</td>\n",
       "      <td>NaN</td>\n",
       "      <td>False</td>\n",
       "      <td>[]</td>\n",
       "      <td>[]</td>\n",
       "    </tr>\n",
       "    <tr>\n",
       "      <th>25716</th>\n",
       "      <td>33141</td>\n",
       "      <td>2021-12-31</td>\n",
       "      <td>2021-12-30</td>\n",
       "      <td>2022-01-03</td>\n",
       "      <td>2021-12-31T16:30:00Z</td>\n",
       "      <td>2021-12-31T16:45:00Z</td>\n",
       "      <td>2021-12-31T20:36:00Z</td>\n",
       "      <td>2021-12-31T20:47:00Z</td>\n",
       "      <td>0</td>\n",
       "      <td>R7_211231_162954.vital</td>\n",
       "      <td>NaN</td>\n",
       "      <td>False</td>\n",
       "      <td>[]</td>\n",
       "      <td>['ROOT/SR']</td>\n",
       "    </tr>\n",
       "    <tr>\n",
       "      <th>25717</th>\n",
       "      <td>33142</td>\n",
       "      <td>2021-12-31</td>\n",
       "      <td>2021-12-30</td>\n",
       "      <td>2022-01-07</td>\n",
       "      <td>2021-12-31T19:30:00Z</td>\n",
       "      <td>2021-12-31T20:30:00Z</td>\n",
       "      <td>2022-01-01T00:19:00Z</td>\n",
       "      <td>2022-01-01T00:35:00Z</td>\n",
       "      <td>0</td>\n",
       "      <td>C5_211231_194843.vital</td>\n",
       "      <td>NaN</td>\n",
       "      <td>False</td>\n",
       "      <td>['Primus/EXP_SEVO']</td>\n",
       "      <td>['Intellivue/EEG_RATIO_SUPPRN']</td>\n",
       "    </tr>\n",
       "  </tbody>\n",
       "</table>\n",
       "<p>25718 rows × 14 columns</p>\n",
       "</div>"
      ],
      "text/plain": [
       "       caseNo      opdate    adm.date     dc.date             ane.start  \\\n",
       "0           4  2019-01-02  2019-01-01  2019-01-06  2019-01-02T08:30:00Z   \n",
       "1           5  2019-01-02  2019-01-01  2019-01-06  2019-01-02T08:37:00Z   \n",
       "2           6  2019-01-02  2019-01-01  2019-01-06  2019-01-02T08:42:00Z   \n",
       "3           8  2019-01-02  2019-01-01  2019-01-06  2019-01-02T08:44:00Z   \n",
       "4          10  2019-01-02  2019-01-01  2019-01-07  2019-01-02T11:05:00Z   \n",
       "...       ...         ...         ...         ...                   ...   \n",
       "25713   33138  2021-12-31  2021-12-29  2022-01-04  2021-12-31T14:25:00Z   \n",
       "25714   33139  2021-12-31  2021-12-30  2022-01-05  2021-12-31T14:55:00Z   \n",
       "25715   33140  2021-12-31  2021-12-30  2022-01-02  2021-12-31T15:05:00Z   \n",
       "25716   33141  2021-12-31  2021-12-30  2022-01-03  2021-12-31T16:30:00Z   \n",
       "25717   33142  2021-12-31  2021-12-30  2022-01-07  2021-12-31T19:30:00Z   \n",
       "\n",
       "                   op.start                op.end               ane.end  \\\n",
       "0      2019-01-02T09:20:00Z  2019-01-02T11:48:00Z  2019-01-02T11:52:00Z   \n",
       "1      2019-01-02T09:45:00Z  2019-01-02T12:44:00Z  2019-01-02T13:26:00Z   \n",
       "2      2019-01-02T09:35:00Z  2019-01-02T11:30:00Z  2019-01-02T11:39:00Z   \n",
       "3      2019-01-02T09:25:00Z  2019-01-02T11:18:00Z  2019-01-02T11:34:00Z   \n",
       "4      2019-01-02T11:30:00Z  2019-01-02T14:11:00Z  2019-01-02T14:24:00Z   \n",
       "...                     ...                   ...                   ...   \n",
       "25713  2021-12-31T14:40:00Z  2021-12-31T16:19:00Z  2021-12-31T16:30:00Z   \n",
       "25714  2021-12-31T15:20:00Z  2021-12-31T20:04:00Z  2021-12-31T20:06:00Z   \n",
       "25715  2021-12-31T15:40:00Z  2021-12-31T18:29:00Z  2021-12-31T18:31:00Z   \n",
       "25716  2021-12-31T16:45:00Z  2021-12-31T20:36:00Z  2021-12-31T20:47:00Z   \n",
       "25717  2021-12-31T20:30:00Z  2022-01-01T00:19:00Z  2022-01-01T00:35:00Z   \n",
       "\n",
       "       delirium.keyword.new                  fileid  BSR_track    BIS  \\\n",
       "0                         0  E5_190102_084307.vital        NaN   True   \n",
       "1                         1  C5_190102_084101.vital        NaN   True   \n",
       "2                         0  F2_190102_084704.vital        NaN   True   \n",
       "3                         0  F3_190102_084530.vital        NaN   True   \n",
       "4                         0  A2_190102_110753.vital        NaN   True   \n",
       "...                     ...                     ...        ...    ...   \n",
       "25713                     0  C3_211231_142318.vital        NaN  False   \n",
       "25714                     0  R3_211231_150413.vital        NaN  False   \n",
       "25715                     0  R2_211231_151607.vital        NaN  False   \n",
       "25716                     0  R7_211231_162954.vital        NaN  False   \n",
       "25717                     0  C5_211231_194843.vital        NaN  False   \n",
       "\n",
       "                                            ANES  \\\n",
       "0                                             []   \n",
       "1      ['Orchestra/PPF20_CE', 'Primus/EXP_SEVO']   \n",
       "2          ['Primus/EXP_SEVO', 'Primus/EXP_DES']   \n",
       "3      ['Orchestra/PPF20_CE', 'Primus/EXP_SEVO']   \n",
       "4                         ['Orchestra/PPF20_CE']   \n",
       "...                                          ...   \n",
       "25713                         ['Primus/EXP_DES']   \n",
       "25714                                         []   \n",
       "25715                                         []   \n",
       "25716                                         []   \n",
       "25717                        ['Primus/EXP_SEVO']   \n",
       "\n",
       "                                   BSR  \n",
       "0                           ['BIS/SR']  \n",
       "1                           ['BIS/SR']  \n",
       "2                           ['BIS/SR']  \n",
       "3                           ['BIS/SR']  \n",
       "4                           ['BIS/SR']  \n",
       "...                                ...  \n",
       "25713  ['Intellivue/EEG_RATIO_SUPPRN']  \n",
       "25714                      ['ROOT/SR']  \n",
       "25715                               []  \n",
       "25716                      ['ROOT/SR']  \n",
       "25717  ['Intellivue/EEG_RATIO_SUPPRN']  \n",
       "\n",
       "[25718 rows x 14 columns]"
      ]
     },
     "execution_count": 104,
     "metadata": {},
     "output_type": "execute_result"
    }
   ],
   "source": [
    "df_info"
   ]
  },
  {
   "cell_type": "code",
   "execution_count": 18,
   "id": "125298cf-4c88-4df2-a938-aa4f788ed2f3",
   "metadata": {
    "execution": {
     "iopub.execute_input": "2023-07-08T08:43:38.416165Z",
     "iopub.status.busy": "2023-07-08T08:43:38.415691Z",
     "iopub.status.idle": "2023-07-08T08:43:39.077232Z",
     "shell.execute_reply": "2023-07-08T08:43:39.076745Z",
     "shell.execute_reply.started": "2023-07-08T08:43:38.416113Z"
    },
    "tags": []
   },
   "outputs": [
    {
     "data": {
      "text/plain": [
       "8985"
      ]
     },
     "execution_count": 18,
     "metadata": {},
     "output_type": "execute_result"
    }
   ],
   "source": [
    "df1 = df_info[df_info['BIS']]\n",
    "\n",
    "cnt= 0\n",
    "for idx, row in df1.iterrows():\n",
    "    if len(row['ANES'])!=2:\n",
    "        cnt+=1\n",
    "        \n",
    "cnt"
   ]
  },
  {
   "cell_type": "code",
   "execution_count": 13,
   "id": "cb266714-8b6b-4164-b992-9bf4fa5609cd",
   "metadata": {
    "execution": {
     "iopub.execute_input": "2023-06-26T05:00:39.992484Z",
     "iopub.status.busy": "2023-06-26T05:00:39.992010Z",
     "iopub.status.idle": "2023-06-26T05:01:10.649188Z",
     "shell.execute_reply": "2023-06-26T05:01:10.648595Z",
     "shell.execute_reply.started": "2023-06-26T05:00:39.992434Z"
    },
    "tags": []
   },
   "outputs": [
    {
     "data": {
      "text/html": [
       "<div>\n",
       "<style scoped>\n",
       "    .dataframe tbody tr th:only-of-type {\n",
       "        vertical-align: middle;\n",
       "    }\n",
       "\n",
       "    .dataframe tbody tr th {\n",
       "        vertical-align: top;\n",
       "    }\n",
       "\n",
       "    .dataframe thead th {\n",
       "        text-align: right;\n",
       "    }\n",
       "</style>\n",
       "<table border=\"1\" class=\"dataframe\">\n",
       "  <thead>\n",
       "    <tr style=\"text-align: right;\">\n",
       "      <th></th>\n",
       "      <th>BIS</th>\n",
       "      <th>BSR</th>\n",
       "      <th>caseid</th>\n",
       "    </tr>\n",
       "  </thead>\n",
       "  <tbody>\n",
       "    <tr>\n",
       "      <th>0</th>\n",
       "      <td>NaN</td>\n",
       "      <td>NaN</td>\n",
       "      <td>14868</td>\n",
       "    </tr>\n",
       "    <tr>\n",
       "      <th>1</th>\n",
       "      <td>NaN</td>\n",
       "      <td>NaN</td>\n",
       "      <td>14868</td>\n",
       "    </tr>\n",
       "    <tr>\n",
       "      <th>2</th>\n",
       "      <td>97.599998</td>\n",
       "      <td>0.0</td>\n",
       "      <td>14868</td>\n",
       "    </tr>\n",
       "    <tr>\n",
       "      <th>3</th>\n",
       "      <td>97.599998</td>\n",
       "      <td>0.0</td>\n",
       "      <td>14868</td>\n",
       "    </tr>\n",
       "    <tr>\n",
       "      <th>4</th>\n",
       "      <td>97.599998</td>\n",
       "      <td>0.0</td>\n",
       "      <td>14868</td>\n",
       "    </tr>\n",
       "    <tr>\n",
       "      <th>...</th>\n",
       "      <td>...</td>\n",
       "      <td>...</td>\n",
       "      <td>...</td>\n",
       "    </tr>\n",
       "    <tr>\n",
       "      <th>239995419</th>\n",
       "      <td>38.5</td>\n",
       "      <td>0.0</td>\n",
       "      <td>13915</td>\n",
       "    </tr>\n",
       "    <tr>\n",
       "      <th>239995420</th>\n",
       "      <td>39.200001</td>\n",
       "      <td>0.0</td>\n",
       "      <td>13915</td>\n",
       "    </tr>\n",
       "    <tr>\n",
       "      <th>239995421</th>\n",
       "      <td>39.200001</td>\n",
       "      <td>0.0</td>\n",
       "      <td>13915</td>\n",
       "    </tr>\n",
       "    <tr>\n",
       "      <th>239995422</th>\n",
       "      <td>39.200001</td>\n",
       "      <td>0.0</td>\n",
       "      <td>13915</td>\n",
       "    </tr>\n",
       "    <tr>\n",
       "      <th>239995423</th>\n",
       "      <td>39.200001</td>\n",
       "      <td>0.0</td>\n",
       "      <td>13915</td>\n",
       "    </tr>\n",
       "  </tbody>\n",
       "</table>\n",
       "<p>239995424 rows × 3 columns</p>\n",
       "</div>"
      ],
      "text/plain": [
       "                 BIS  BSR caseid\n",
       "0                NaN  NaN  14868\n",
       "1                NaN  NaN  14868\n",
       "2          97.599998  0.0  14868\n",
       "3          97.599998  0.0  14868\n",
       "4          97.599998  0.0  14868\n",
       "...              ...  ...    ...\n",
       "239995419       38.5  0.0  13915\n",
       "239995420  39.200001  0.0  13915\n",
       "239995421  39.200001  0.0  13915\n",
       "239995422  39.200001  0.0  13915\n",
       "239995423  39.200001  0.0  13915\n",
       "\n",
       "[239995424 rows x 3 columns]"
      ]
     },
     "execution_count": 13,
     "metadata": {},
     "output_type": "execute_result"
    }
   ],
   "source": [
    "import pandas as pd\n",
    "df = pd.DataFrame(data, columns = ['BIS', 'BSR', 'caseid'])\n",
    "df"
   ]
  },
  {
   "cell_type": "code",
   "execution_count": 14,
   "id": "12e69817-dc50-4391-aa9b-6088e3d2d7ab",
   "metadata": {
    "execution": {
     "iopub.execute_input": "2023-06-26T05:16:11.961774Z",
     "iopub.status.busy": "2023-06-26T05:16:11.961223Z",
     "iopub.status.idle": "2023-06-26T05:17:16.339241Z",
     "shell.execute_reply": "2023-06-26T05:17:16.338760Z",
     "shell.execute_reply.started": "2023-06-26T05:16:11.961721Z"
    },
    "tags": []
   },
   "outputs": [
    {
     "data": {
      "text/html": [
       "<div>\n",
       "<style scoped>\n",
       "    .dataframe tbody tr th:only-of-type {\n",
       "        vertical-align: middle;\n",
       "    }\n",
       "\n",
       "    .dataframe tbody tr th {\n",
       "        vertical-align: top;\n",
       "    }\n",
       "\n",
       "    .dataframe thead th {\n",
       "        text-align: right;\n",
       "    }\n",
       "</style>\n",
       "<table border=\"1\" class=\"dataframe\">\n",
       "  <thead>\n",
       "    <tr style=\"text-align: right;\">\n",
       "      <th></th>\n",
       "      <th>BIS</th>\n",
       "      <th>BSR</th>\n",
       "      <th>caseid</th>\n",
       "    </tr>\n",
       "  </thead>\n",
       "  <tbody>\n",
       "    <tr>\n",
       "      <th>count</th>\n",
       "      <td>1.417067e+08</td>\n",
       "      <td>221777046.0</td>\n",
       "      <td>239995424</td>\n",
       "    </tr>\n",
       "    <tr>\n",
       "      <th>unique</th>\n",
       "      <td>1.800000e+03</td>\n",
       "      <td>1819.0</td>\n",
       "      <td>19455</td>\n",
       "    </tr>\n",
       "    <tr>\n",
       "      <th>top</th>\n",
       "      <td>4.120000e+01</td>\n",
       "      <td>0.0</td>\n",
       "      <td>26645</td>\n",
       "    </tr>\n",
       "    <tr>\n",
       "      <th>freq</th>\n",
       "      <td>9.177310e+05</td>\n",
       "      <td>205378417.0</td>\n",
       "      <td>68334</td>\n",
       "    </tr>\n",
       "  </tbody>\n",
       "</table>\n",
       "</div>"
      ],
      "text/plain": [
       "                 BIS          BSR     caseid\n",
       "count   1.417067e+08  221777046.0  239995424\n",
       "unique  1.800000e+03       1819.0      19455\n",
       "top     4.120000e+01          0.0      26645\n",
       "freq    9.177310e+05  205378417.0      68334"
      ]
     },
     "execution_count": 14,
     "metadata": {},
     "output_type": "execute_result"
    }
   ],
   "source": [
    "df.describe()\n",
    "#lens = df['caseid'].value_counts()"
   ]
  },
  {
   "cell_type": "markdown",
   "id": "6d44a32e-aea4-42bd-9887-148e10346ce3",
   "metadata": {},
   "source": [
    "## Data loading"
   ]
  },
  {
   "cell_type": "code",
   "execution_count": 2,
   "id": "18f31f48-325a-4b25-a399-85c35f183e70",
   "metadata": {
    "execution": {
     "iopub.execute_input": "2023-06-26T08:23:57.330949Z",
     "iopub.status.busy": "2023-06-26T08:23:57.330372Z",
     "iopub.status.idle": "2023-06-26T08:27:37.627840Z",
     "shell.execute_reply": "2023-06-26T08:27:37.627090Z",
     "shell.execute_reply.started": "2023-06-26T08:23:57.330891Z"
    },
    "tags": []
   },
   "outputs": [],
   "source": [
    "import numpy as np\n",
    "import pandas as pd\n",
    "from tqdm import tqdm\n",
    "import pickle\n",
    "\n",
    "MIN_ANES = 30 * 60 # minimal anesthesia time : 30 min\n",
    "\n",
    "# data loading\n",
    "data = np.load('npdata.npy', allow_pickle=True)\n",
    "df_info = pd.read_csv('info.csv')\n",
    "\n",
    "df = pd.DataFrame([], columns=['bis', 'brs', 'caseid', 'output'])\n",
    "\n",
    "# caseids\n",
    "caseids = np.unique(data[:,2])\n",
    "#pickle.dump(caseids, open('caseids','wb'))\n",
    "caseid_list = data[:,2]"
   ]
  },
  {
   "cell_type": "markdown",
   "id": "ada57b01-f5d4-45b8-b67e-fd515a171ef8",
   "metadata": {},
   "source": [
    "## caseid 단위로 bis, brs, pod 뽑기 (using multiprocessing)"
   ]
  },
  {
   "cell_type": "code",
   "execution_count": 13,
   "id": "56414a46-7bc4-42e6-a1d5-10e0c72d9ce4",
   "metadata": {
    "execution": {
     "iopub.execute_input": "2023-06-26T08:30:45.489408Z",
     "iopub.status.busy": "2023-06-26T08:30:45.488791Z",
     "iopub.status.idle": "2023-06-26T10:46:53.531251Z",
     "shell.execute_reply": "2023-06-26T10:46:53.530511Z",
     "shell.execute_reply.started": "2023-06-26T08:30:45.489353Z"
    },
    "tags": []
   },
   "outputs": [
    {
     "name": "stderr",
     "output_type": "stream",
     "text": [
      " 30%|██▉       | 5790/19455 [44:07<2:06:28,  1.80it/s]IOPub message rate exceeded.\n",
      "The notebook server will temporarily stop sending output\n",
      "to the client in order to avoid crashing it.\n",
      "To change this limit, set the config variable\n",
      "`--NotebookApp.iopub_msg_rate_limit`.\n",
      "\n",
      "Current values:\n",
      "NotebookApp.iopub_msg_rate_limit=1000.0 (msgs/sec)\n",
      "NotebookApp.rate_limit_window=3.0 (secs)\n",
      "\n",
      "100%|██████████| 19455/19455 [2:14:59<00:00,  2.40it/s]  \n"
     ]
    },
    {
     "name": "stdout",
     "output_type": "stream",
     "text": [
      "min_list: []\n",
      "non_list: []\n"
     ]
    }
   ],
   "source": [
    "import time, os\n",
    "from tqdm import tqdm\n",
    "from multiprocessing import Pool, Process\n",
    "\n",
    "\n",
    "cnt = 0\n",
    "min_list, non_list = [], []\n",
    "df = pd.DataFrame([], columns=['bis', 'brs', 'caseid', 'POD'])\n",
    "\n",
    "\n",
    "def process_case(caseid):\n",
    "    global cnt, min_list, non_list\n",
    "    \n",
    "    mask = np.isin(caseid_list, caseid)\n",
    "    \n",
    "    # 최소 마취시간보다 짧은 경우 제외\n",
    "    if np.sum(mask) < MIN_ANES:\n",
    "        min_list.append(caseid)\n",
    "        return None\n",
    "    \n",
    "    # bis, brs tracks\n",
    "    bis = data[mask][:,0]\n",
    "    brs = data[mask][:,1]\n",
    "    \n",
    "    # denoising\n",
    "    bis[bis < 0] = np.nan\n",
    "    \n",
    "    # bis track이 전부 0이거나 nan인 경우 제외\n",
    "    if np.nansum(bis) == 0:\n",
    "        non_list.append(caseid)\n",
    "        return None\n",
    "    \n",
    "    delir_bool = df_info[df_info['caseNo'] == caseid]['delirium.keyword.new'].values[0]\n",
    "    \n",
    "    # Add the row to the dataframe\n",
    "    row = {'bis': bis, 'brs': brs, 'caseid': caseid, 'POD': bool(delir_bool)}\n",
    "    return row\n",
    "\n",
    "# Define the main function to run in parallel\n",
    "#def main():\n",
    "# Create a pool of processes\n",
    "with Pool() as pool:\n",
    "    # Map the worker function to the caseids using multiple processes\n",
    "    results = list(tqdm(pool.imap(process_case, caseids), total=len(caseids)))\n",
    "\n",
    "# Add the non-None results to the dataframe\n",
    "for row in results:\n",
    "    if row is not None:\n",
    "        df.loc[cnt] = row\n",
    "        cnt += 1\n",
    "\n",
    "print(\"min_list:\", min_list)\n",
    "print(\"non_list:\", non_list)\n",
    "    \n",
    "    \n",
    "#main()"
   ]
  },
  {
   "cell_type": "code",
   "execution_count": 80,
   "id": "c9e503e1-c814-4a25-a318-2775d83123d5",
   "metadata": {
    "execution": {
     "iopub.execute_input": "2023-06-26T16:05:22.884397Z",
     "iopub.status.busy": "2023-06-26T16:05:22.883826Z",
     "iopub.status.idle": "2023-06-26T16:05:22.933767Z",
     "shell.execute_reply": "2023-06-26T16:05:22.932967Z",
     "shell.execute_reply.started": "2023-06-26T16:05:22.884341Z"
    },
    "tags": []
   },
   "outputs": [
    {
     "data": {
      "text/html": [
       "<div>\n",
       "<style scoped>\n",
       "    .dataframe tbody tr th:only-of-type {\n",
       "        vertical-align: middle;\n",
       "    }\n",
       "\n",
       "    .dataframe tbody tr th {\n",
       "        vertical-align: top;\n",
       "    }\n",
       "\n",
       "    .dataframe thead th {\n",
       "        text-align: right;\n",
       "    }\n",
       "</style>\n",
       "<table border=\"1\" class=\"dataframe\">\n",
       "  <thead>\n",
       "    <tr style=\"text-align: right;\">\n",
       "      <th></th>\n",
       "      <th>bis</th>\n",
       "      <th>brs</th>\n",
       "      <th>caseid</th>\n",
       "      <th>POD</th>\n",
       "      <th>intercept</th>\n",
       "      <th>under0.1</th>\n",
       "      <th>under0.2</th>\n",
       "      <th>under0.3</th>\n",
       "      <th>under0.4</th>\n",
       "      <th>under0.5</th>\n",
       "      <th>under0.6</th>\n",
       "      <th>under0.7</th>\n",
       "      <th>under0.8</th>\n",
       "      <th>under0.9</th>\n",
       "    </tr>\n",
       "  </thead>\n",
       "  <tbody>\n",
       "    <tr>\n",
       "      <th>0</th>\n",
       "      <td>[nan, nan, nan, nan, nan, nan, nan, nan, nan, ...</td>\n",
       "      <td>[nan, nan, nan, nan, nan, nan, nan, nan, nan, ...</td>\n",
       "      <td>4</td>\n",
       "      <td>False</td>\n",
       "      <td>1</td>\n",
       "      <td>96.374965</td>\n",
       "      <td>96.374965</td>\n",
       "      <td>96.374965</td>\n",
       "      <td>96.374965</td>\n",
       "      <td>96.374965</td>\n",
       "      <td>96.374965</td>\n",
       "      <td>96.374965</td>\n",
       "      <td>96.374965</td>\n",
       "      <td>99.216464</td>\n",
       "    </tr>\n",
       "    <tr>\n",
       "      <th>1</th>\n",
       "      <td>[97.69999694824219, 97.69999694824219, 97.6999...</td>\n",
       "      <td>[0.0, 0.0, 0.0, 0.0, 0.0, 0.0, 0.0, 0.0, 0.0, ...</td>\n",
       "      <td>5</td>\n",
       "      <td>True</td>\n",
       "      <td>1</td>\n",
       "      <td>59.178187</td>\n",
       "      <td>59.178187</td>\n",
       "      <td>59.178187</td>\n",
       "      <td>59.178187</td>\n",
       "      <td>59.178187</td>\n",
       "      <td>59.178187</td>\n",
       "      <td>59.178187</td>\n",
       "      <td>59.178187</td>\n",
       "      <td>87.250384</td>\n",
       "    </tr>\n",
       "    <tr>\n",
       "      <th>2</th>\n",
       "      <td>[41.599998474121094, 41.5, 41.29999923706055, ...</td>\n",
       "      <td>[0.0, 0.0, 0.0, 0.0, 0.0, 0.0, 0.0, 0.0, 0.0, ...</td>\n",
       "      <td>6</td>\n",
       "      <td>False</td>\n",
       "      <td>1</td>\n",
       "      <td>99.775235</td>\n",
       "      <td>99.775235</td>\n",
       "      <td>99.775235</td>\n",
       "      <td>99.775235</td>\n",
       "      <td>99.775235</td>\n",
       "      <td>99.775235</td>\n",
       "      <td>99.775235</td>\n",
       "      <td>99.775235</td>\n",
       "      <td>99.775235</td>\n",
       "    </tr>\n",
       "    <tr>\n",
       "      <th>3</th>\n",
       "      <td>[97.69999694824219, 97.69999694824219, 97.6999...</td>\n",
       "      <td>[0.0, 0.0, 0.0, 0.0, 0.0, 0.0, 0.0, 0.0, 0.0, ...</td>\n",
       "      <td>8</td>\n",
       "      <td>False</td>\n",
       "      <td>1</td>\n",
       "      <td>95.742774</td>\n",
       "      <td>95.742774</td>\n",
       "      <td>95.742774</td>\n",
       "      <td>95.742774</td>\n",
       "      <td>95.742774</td>\n",
       "      <td>95.742774</td>\n",
       "      <td>95.742774</td>\n",
       "      <td>95.742774</td>\n",
       "      <td>98.173874</td>\n",
       "    </tr>\n",
       "    <tr>\n",
       "      <th>4</th>\n",
       "      <td>[97.69999694824219, 97.69999694824219, 97.4000...</td>\n",
       "      <td>[0.0, 0.0, 0.0, 0.0, 0.0, 0.0, 0.0, 0.0, 0.0, ...</td>\n",
       "      <td>10</td>\n",
       "      <td>False</td>\n",
       "      <td>1</td>\n",
       "      <td>100.000000</td>\n",
       "      <td>100.000000</td>\n",
       "      <td>100.000000</td>\n",
       "      <td>100.000000</td>\n",
       "      <td>100.000000</td>\n",
       "      <td>100.000000</td>\n",
       "      <td>100.000000</td>\n",
       "      <td>100.000000</td>\n",
       "      <td>100.000000</td>\n",
       "    </tr>\n",
       "    <tr>\n",
       "      <th>...</th>\n",
       "      <td>...</td>\n",
       "      <td>...</td>\n",
       "      <td>...</td>\n",
       "      <td>...</td>\n",
       "      <td>...</td>\n",
       "      <td>...</td>\n",
       "      <td>...</td>\n",
       "      <td>...</td>\n",
       "      <td>...</td>\n",
       "      <td>...</td>\n",
       "      <td>...</td>\n",
       "      <td>...</td>\n",
       "      <td>...</td>\n",
       "      <td>...</td>\n",
       "    </tr>\n",
       "    <tr>\n",
       "      <th>12042</th>\n",
       "      <td>[nan, nan, nan, nan, nan, nan, nan, nan, nan, ...</td>\n",
       "      <td>[nan, nan, nan, nan, nan, nan, nan, nan, nan, ...</td>\n",
       "      <td>26468</td>\n",
       "      <td>False</td>\n",
       "      <td>1</td>\n",
       "      <td>100.000000</td>\n",
       "      <td>100.000000</td>\n",
       "      <td>100.000000</td>\n",
       "      <td>100.000000</td>\n",
       "      <td>100.000000</td>\n",
       "      <td>100.000000</td>\n",
       "      <td>100.000000</td>\n",
       "      <td>100.000000</td>\n",
       "      <td>100.000000</td>\n",
       "    </tr>\n",
       "    <tr>\n",
       "      <th>12043</th>\n",
       "      <td>[87.0, 88.0999984741211, 87.5999984741211, 83....</td>\n",
       "      <td>[0.0, 0.0, 0.0, 0.0, 0.0, 0.0, 0.0, 0.0, 0.0, ...</td>\n",
       "      <td>26509</td>\n",
       "      <td>False</td>\n",
       "      <td>1</td>\n",
       "      <td>87.330567</td>\n",
       "      <td>87.330567</td>\n",
       "      <td>87.330567</td>\n",
       "      <td>87.330567</td>\n",
       "      <td>87.330567</td>\n",
       "      <td>87.330567</td>\n",
       "      <td>87.330567</td>\n",
       "      <td>87.330567</td>\n",
       "      <td>94.827109</td>\n",
       "    </tr>\n",
       "    <tr>\n",
       "      <th>12044</th>\n",
       "      <td>[nan, nan, nan, nan, nan, nan, nan, nan, nan, ...</td>\n",
       "      <td>[nan, nan, nan, nan, nan, nan, nan, nan, nan, ...</td>\n",
       "      <td>28966</td>\n",
       "      <td>False</td>\n",
       "      <td>1</td>\n",
       "      <td>100.000000</td>\n",
       "      <td>100.000000</td>\n",
       "      <td>100.000000</td>\n",
       "      <td>100.000000</td>\n",
       "      <td>100.000000</td>\n",
       "      <td>100.000000</td>\n",
       "      <td>100.000000</td>\n",
       "      <td>100.000000</td>\n",
       "      <td>100.000000</td>\n",
       "    </tr>\n",
       "    <tr>\n",
       "      <th>12045</th>\n",
       "      <td>[nan, nan, nan, nan, nan, nan, nan, nan, nan, ...</td>\n",
       "      <td>[nan, nan, nan, nan, nan, nan, nan, nan, nan, ...</td>\n",
       "      <td>29850</td>\n",
       "      <td>False</td>\n",
       "      <td>1</td>\n",
       "      <td>100.000000</td>\n",
       "      <td>100.000000</td>\n",
       "      <td>100.000000</td>\n",
       "      <td>100.000000</td>\n",
       "      <td>100.000000</td>\n",
       "      <td>100.000000</td>\n",
       "      <td>100.000000</td>\n",
       "      <td>100.000000</td>\n",
       "      <td>100.000000</td>\n",
       "    </tr>\n",
       "    <tr>\n",
       "      <th>12046</th>\n",
       "      <td>[nan, nan, nan, nan, nan, nan, nan, nan, nan, ...</td>\n",
       "      <td>[nan, nan, nan, nan, nan, nan, nan, nan, nan, ...</td>\n",
       "      <td>30999</td>\n",
       "      <td>False</td>\n",
       "      <td>1</td>\n",
       "      <td>100.000000</td>\n",
       "      <td>100.000000</td>\n",
       "      <td>100.000000</td>\n",
       "      <td>100.000000</td>\n",
       "      <td>100.000000</td>\n",
       "      <td>100.000000</td>\n",
       "      <td>100.000000</td>\n",
       "      <td>100.000000</td>\n",
       "      <td>100.000000</td>\n",
       "    </tr>\n",
       "  </tbody>\n",
       "</table>\n",
       "<p>12047 rows × 14 columns</p>\n",
       "</div>"
      ],
      "text/plain": [
       "                                                     bis  \\\n",
       "0      [nan, nan, nan, nan, nan, nan, nan, nan, nan, ...   \n",
       "1      [97.69999694824219, 97.69999694824219, 97.6999...   \n",
       "2      [41.599998474121094, 41.5, 41.29999923706055, ...   \n",
       "3      [97.69999694824219, 97.69999694824219, 97.6999...   \n",
       "4      [97.69999694824219, 97.69999694824219, 97.4000...   \n",
       "...                                                  ...   \n",
       "12042  [nan, nan, nan, nan, nan, nan, nan, nan, nan, ...   \n",
       "12043  [87.0, 88.0999984741211, 87.5999984741211, 83....   \n",
       "12044  [nan, nan, nan, nan, nan, nan, nan, nan, nan, ...   \n",
       "12045  [nan, nan, nan, nan, nan, nan, nan, nan, nan, ...   \n",
       "12046  [nan, nan, nan, nan, nan, nan, nan, nan, nan, ...   \n",
       "\n",
       "                                                     brs  caseid    POD  \\\n",
       "0      [nan, nan, nan, nan, nan, nan, nan, nan, nan, ...       4  False   \n",
       "1      [0.0, 0.0, 0.0, 0.0, 0.0, 0.0, 0.0, 0.0, 0.0, ...       5   True   \n",
       "2      [0.0, 0.0, 0.0, 0.0, 0.0, 0.0, 0.0, 0.0, 0.0, ...       6  False   \n",
       "3      [0.0, 0.0, 0.0, 0.0, 0.0, 0.0, 0.0, 0.0, 0.0, ...       8  False   \n",
       "4      [0.0, 0.0, 0.0, 0.0, 0.0, 0.0, 0.0, 0.0, 0.0, ...      10  False   \n",
       "...                                                  ...     ...    ...   \n",
       "12042  [nan, nan, nan, nan, nan, nan, nan, nan, nan, ...   26468  False   \n",
       "12043  [0.0, 0.0, 0.0, 0.0, 0.0, 0.0, 0.0, 0.0, 0.0, ...   26509  False   \n",
       "12044  [nan, nan, nan, nan, nan, nan, nan, nan, nan, ...   28966  False   \n",
       "12045  [nan, nan, nan, nan, nan, nan, nan, nan, nan, ...   29850  False   \n",
       "12046  [nan, nan, nan, nan, nan, nan, nan, nan, nan, ...   30999  False   \n",
       "\n",
       "       intercept    under0.1    under0.2    under0.3    under0.4    under0.5  \\\n",
       "0              1   96.374965   96.374965   96.374965   96.374965   96.374965   \n",
       "1              1   59.178187   59.178187   59.178187   59.178187   59.178187   \n",
       "2              1   99.775235   99.775235   99.775235   99.775235   99.775235   \n",
       "3              1   95.742774   95.742774   95.742774   95.742774   95.742774   \n",
       "4              1  100.000000  100.000000  100.000000  100.000000  100.000000   \n",
       "...          ...         ...         ...         ...         ...         ...   \n",
       "12042          1  100.000000  100.000000  100.000000  100.000000  100.000000   \n",
       "12043          1   87.330567   87.330567   87.330567   87.330567   87.330567   \n",
       "12044          1  100.000000  100.000000  100.000000  100.000000  100.000000   \n",
       "12045          1  100.000000  100.000000  100.000000  100.000000  100.000000   \n",
       "12046          1  100.000000  100.000000  100.000000  100.000000  100.000000   \n",
       "\n",
       "         under0.6    under0.7    under0.8    under0.9  \n",
       "0       96.374965   96.374965   96.374965   99.216464  \n",
       "1       59.178187   59.178187   59.178187   87.250384  \n",
       "2       99.775235   99.775235   99.775235   99.775235  \n",
       "3       95.742774   95.742774   95.742774   98.173874  \n",
       "4      100.000000  100.000000  100.000000  100.000000  \n",
       "...           ...         ...         ...         ...  \n",
       "12042  100.000000  100.000000  100.000000  100.000000  \n",
       "12043   87.330567   87.330567   87.330567   94.827109  \n",
       "12044  100.000000  100.000000  100.000000  100.000000  \n",
       "12045  100.000000  100.000000  100.000000  100.000000  \n",
       "12046  100.000000  100.000000  100.000000  100.000000  \n",
       "\n",
       "[12047 rows x 14 columns]"
      ]
     },
     "execution_count": 80,
     "metadata": {},
     "output_type": "execute_result"
    }
   ],
   "source": [
    "pickle.dump(df, open('cache/df_valid','wb'))\n",
    "df"
   ]
  },
  {
   "cell_type": "code",
   "execution_count": 21,
   "id": "881253e6-7076-4d3e-bc49-60cb1ceb1ecc",
   "metadata": {
    "execution": {
     "iopub.execute_input": "2023-06-26T11:22:55.288562Z",
     "iopub.status.busy": "2023-06-26T11:22:55.288083Z",
     "iopub.status.idle": "2023-06-26T11:22:55.297129Z",
     "shell.execute_reply": "2023-06-26T11:22:55.296064Z",
     "shell.execute_reply.started": "2023-06-26T11:22:55.288508Z"
    },
    "tags": []
   },
   "outputs": [
    {
     "data": {
      "text/plain": [
       "234"
      ]
     },
     "execution_count": 21,
     "metadata": {},
     "output_type": "execute_result"
    }
   ],
   "source": [
    "df = pickle.load(open('cache/df_valid','rb'))\n",
    "\n",
    "df.shuffle(seed="
   ]
  },
  {
   "cell_type": "markdown",
   "id": "b1ae355c-dba5-4dd1-8deb-badb0be0762c",
   "metadata": {},
   "source": [
    "* previous code for cumulative durs for specific thres"
   ]
  },
  {
   "cell_type": "code",
   "execution_count": 25,
   "id": "5b8c17ea-a515-4d8d-bd32-a0daaa412dc5",
   "metadata": {
    "execution": {
     "iopub.execute_input": "2023-06-26T11:31:26.639850Z",
     "iopub.status.busy": "2023-06-26T11:31:26.639343Z",
     "iopub.status.idle": "2023-06-26T11:31:31.110272Z",
     "shell.execute_reply": "2023-06-26T11:31:31.109670Z",
     "shell.execute_reply.started": "2023-06-26T11:31:26.639796Z"
    },
    "tags": []
   },
   "outputs": [
    {
     "name": "stderr",
     "output_type": "stream",
     "text": [
      "100%|██████████| 12047/12047 [00:04<00:00, 2700.65it/s]\n"
     ]
    }
   ],
   "source": [
    "# previous code for cumulative durs for specific thres\n",
    "import statsmodels.api as sm\n",
    "\n",
    "\n",
    "bsr_thresholds = np.arange(0.1,1.0,0.1)\n",
    "\n",
    "thres = 40\n",
    "\n",
    "odd_ratios = []\n",
    "cums, outputs = [], []\n",
    "for idx, row in tqdm(df.iterrows(), total = df.shape[0]):\n",
    "    brs = np.array(row['brs'], dtype=np.float32)\n",
    "    brs = brs[~np.isnan(brs)]\n",
    "    brs = brs[(brs>=0) & (brs<=1)]\n",
    "    if len(brs) < 10:\n",
    "        print(f'caseid {row['caseid']} - no brs')\n",
    "        continue\n",
    "    \n",
    "    cums.append([np.sum(row['brs']>thres), row['caseid']])\n",
    "    outputs.append(row['output'])\n",
    "    \n",
    "\n",
    "cums = np.array(cums)\n",
    "outputs = np.array(outputs, dtype=int)"
   ]
  },
  {
   "cell_type": "markdown",
   "id": "7aff3fb5-fd81-422d-90af-8f1d1fdd4361",
   "metadata": {},
   "source": [
    "## Calculate the odds ratio for POD prediction depending on BSR threshold"
   ]
  },
  {
   "cell_type": "code",
   "execution_count": 94,
   "id": "9cab08ba-d4c9-4922-96ce-ca530e49ec2f",
   "metadata": {
    "execution": {
     "iopub.execute_input": "2023-06-26T16:19:01.047800Z",
     "iopub.status.busy": "2023-06-26T16:19:01.046487Z",
     "iopub.status.idle": "2023-06-26T16:22:00.384198Z",
     "shell.execute_reply": "2023-06-26T16:22:00.383447Z",
     "shell.execute_reply.started": "2023-06-26T16:19:01.047703Z"
    },
    "tags": []
   },
   "outputs": [
    {
     "name": "stderr",
     "output_type": "stream",
     "text": [
      "100%|██████████| 12044/12044 [02:59<00:00, 67.17it/s]\n"
     ]
    }
   ],
   "source": [
    "import statsmodels.api as sm\n",
    "\n",
    "#bsr_thresholds = [0.1, 0.2, 0.3, 0.4, 0.5, 0.6, 0.7, 0.8, 0.9]\n",
    "bsr_thresholds = np.arange(0.1,1.0,0.02)\n",
    "\n",
    "thres = 40\n",
    "\n",
    "odd_ratios = []\n",
    "cums, outputs = [], []\n",
    "for idx, row in tqdm(df.iterrows(), total = df.shape[0]):\n",
    "    brs = np.array(row['brs'], dtype=np.float32)\n",
    "    brs = brs[~np.isnan(brs)]\n",
    "    brs = brs[(brs>=0) & (brs<=1)]\n",
    "    if len(brs) < 10:\n",
    "        print('caseid {}: no brs'.format(row['caseid']))\n",
    "        continue\n",
    "    \n",
    "    for thres in bsr_thresholds:\n",
    "        df.loc[idx,f'upper{thres}'] = np.nanmean(brs > thres) * 100\n",
    "        \n",
    "# invalid한 행 제거 (brs가 전부 nan)\n",
    "df.dropna(subset=['upper0.1'], how='any', axis=0, inplace=True)"
   ]
  },
  {
   "cell_type": "code",
   "execution_count": 95,
   "id": "f4a77afb-1036-4dcd-acdf-d693fe6d1572",
   "metadata": {
    "execution": {
     "iopub.execute_input": "2023-06-26T16:22:21.166039Z",
     "iopub.status.busy": "2023-06-26T16:22:21.165480Z",
     "iopub.status.idle": "2023-06-26T16:22:21.679023Z",
     "shell.execute_reply": "2023-06-26T16:22:21.678449Z",
     "shell.execute_reply.started": "2023-06-26T16:22:21.165986Z"
    },
    "scrolled": true,
    "tags": []
   },
   "outputs": [
    {
     "name": "stdout",
     "output_type": "stream",
     "text": [
      "Optimization terminated successfully.\n",
      "         Current function value: 0.206202\n",
      "         Iterations 7\n",
      "upper0.1\tb=0.054, exp(b)=1.056, pval=0.000\n",
      "Optimization terminated successfully.\n",
      "         Current function value: 0.206202\n",
      "         Iterations 7\n",
      "upper0.12000000000000001\tb=0.054, exp(b)=1.056, pval=0.000\n",
      "Optimization terminated successfully.\n",
      "         Current function value: 0.206202\n",
      "         Iterations 7\n",
      "upper0.14\tb=0.054, exp(b)=1.056, pval=0.000\n",
      "Optimization terminated successfully.\n",
      "         Current function value: 0.206202\n",
      "         Iterations 7\n",
      "upper0.16000000000000003\tb=0.054, exp(b)=1.056, pval=0.000\n",
      "Optimization terminated successfully.\n",
      "         Current function value: 0.206202\n",
      "         Iterations 7\n",
      "upper0.18000000000000002\tb=0.054, exp(b)=1.056, pval=0.000\n",
      "Optimization terminated successfully.\n",
      "         Current function value: 0.206202\n",
      "         Iterations 7\n",
      "upper0.2\tb=0.054, exp(b)=1.056, pval=0.000\n",
      "Optimization terminated successfully.\n",
      "         Current function value: 0.206202\n",
      "         Iterations 7\n",
      "upper0.22000000000000003\tb=0.054, exp(b)=1.056, pval=0.000\n",
      "Optimization terminated successfully.\n",
      "         Current function value: 0.206202\n",
      "         Iterations 7\n",
      "upper0.24000000000000002\tb=0.054, exp(b)=1.056, pval=0.000\n",
      "Optimization terminated successfully.\n",
      "         Current function value: 0.206202\n",
      "         Iterations 7\n",
      "upper0.26\tb=0.054, exp(b)=1.056, pval=0.000\n",
      "Optimization terminated successfully.\n",
      "         Current function value: 0.206202\n",
      "         Iterations 7\n",
      "upper0.28\tb=0.054, exp(b)=1.056, pval=0.000\n",
      "Optimization terminated successfully.\n",
      "         Current function value: 0.206202\n",
      "         Iterations 7\n",
      "upper0.30000000000000004\tb=0.054, exp(b)=1.056, pval=0.000\n",
      "Optimization terminated successfully.\n",
      "         Current function value: 0.206202\n",
      "         Iterations 7\n",
      "upper0.32000000000000006\tb=0.054, exp(b)=1.056, pval=0.000\n",
      "Optimization terminated successfully.\n",
      "         Current function value: 0.206202\n",
      "         Iterations 7\n",
      "upper0.3400000000000001\tb=0.054, exp(b)=1.056, pval=0.000\n",
      "Optimization terminated successfully.\n",
      "         Current function value: 0.206202\n",
      "         Iterations 7\n",
      "upper0.3600000000000001\tb=0.054, exp(b)=1.056, pval=0.000\n",
      "Optimization terminated successfully.\n",
      "         Current function value: 0.206202\n",
      "         Iterations 7\n",
      "upper0.38\tb=0.054, exp(b)=1.056, pval=0.000\n",
      "Optimization terminated successfully.\n",
      "         Current function value: 0.206202\n",
      "         Iterations 7\n",
      "upper0.4\tb=0.054, exp(b)=1.056, pval=0.000\n",
      "Optimization terminated successfully.\n",
      "         Current function value: 0.206202\n",
      "         Iterations 7\n",
      "upper0.42000000000000004\tb=0.054, exp(b)=1.056, pval=0.000\n",
      "Optimization terminated successfully.\n",
      "         Current function value: 0.206202\n",
      "         Iterations 7\n",
      "upper0.44000000000000006\tb=0.054, exp(b)=1.056, pval=0.000\n",
      "Optimization terminated successfully.\n",
      "         Current function value: 0.206202\n",
      "         Iterations 7\n",
      "upper0.4600000000000001\tb=0.054, exp(b)=1.056, pval=0.000\n",
      "Optimization terminated successfully.\n",
      "         Current function value: 0.206202\n",
      "         Iterations 7\n",
      "upper0.4800000000000001\tb=0.054, exp(b)=1.056, pval=0.000\n",
      "Optimization terminated successfully.\n",
      "         Current function value: 0.206202\n",
      "         Iterations 7\n",
      "upper0.5000000000000001\tb=0.054, exp(b)=1.056, pval=0.000\n",
      "Optimization terminated successfully.\n",
      "         Current function value: 0.206202\n",
      "         Iterations 7\n",
      "upper0.5200000000000001\tb=0.054, exp(b)=1.056, pval=0.000\n",
      "Optimization terminated successfully.\n",
      "         Current function value: 0.206202\n",
      "         Iterations 7\n",
      "upper0.54\tb=0.054, exp(b)=1.056, pval=0.000\n",
      "Optimization terminated successfully.\n",
      "         Current function value: 0.206202\n",
      "         Iterations 7\n",
      "upper0.56\tb=0.054, exp(b)=1.056, pval=0.000\n",
      "Optimization terminated successfully.\n",
      "         Current function value: 0.206202\n",
      "         Iterations 7\n",
      "upper0.5800000000000001\tb=0.054, exp(b)=1.056, pval=0.000\n",
      "Optimization terminated successfully.\n",
      "         Current function value: 0.206202\n",
      "         Iterations 7\n",
      "upper0.6000000000000001\tb=0.054, exp(b)=1.056, pval=0.000\n",
      "Optimization terminated successfully.\n",
      "         Current function value: 0.206202\n",
      "         Iterations 7\n",
      "upper0.6200000000000001\tb=0.054, exp(b)=1.056, pval=0.000\n",
      "Optimization terminated successfully.\n",
      "         Current function value: 0.206202\n",
      "         Iterations 7\n",
      "upper0.6400000000000001\tb=0.054, exp(b)=1.056, pval=0.000\n",
      "Optimization terminated successfully.\n",
      "         Current function value: 0.206202\n",
      "         Iterations 7\n",
      "upper0.66\tb=0.054, exp(b)=1.056, pval=0.000\n",
      "Optimization terminated successfully.\n",
      "         Current function value: 0.206202\n",
      "         Iterations 7\n",
      "upper0.68\tb=0.054, exp(b)=1.056, pval=0.000\n",
      "Optimization terminated successfully.\n",
      "         Current function value: 0.206202\n",
      "         Iterations 7\n",
      "upper0.7000000000000001\tb=0.054, exp(b)=1.056, pval=0.000\n",
      "Optimization terminated successfully.\n",
      "         Current function value: 0.206202\n",
      "         Iterations 7\n",
      "upper0.7200000000000001\tb=0.054, exp(b)=1.056, pval=0.000\n",
      "Optimization terminated successfully.\n",
      "         Current function value: 0.206202\n",
      "         Iterations 7\n",
      "upper0.7400000000000001\tb=0.054, exp(b)=1.056, pval=0.000\n",
      "Optimization terminated successfully.\n",
      "         Current function value: 0.206202\n",
      "         Iterations 7\n",
      "upper0.7600000000000001\tb=0.054, exp(b)=1.056, pval=0.000\n",
      "Optimization terminated successfully.\n",
      "         Current function value: 0.206202\n",
      "         Iterations 7\n",
      "upper0.7800000000000001\tb=0.054, exp(b)=1.056, pval=0.000\n",
      "Optimization terminated successfully.\n",
      "         Current function value: 0.209486\n",
      "         Iterations 7\n",
      "upper0.8000000000000002\tb=0.113, exp(b)=1.120, pval=0.000\n",
      "Optimization terminated successfully.\n",
      "         Current function value: 0.209486\n",
      "         Iterations 7\n",
      "upper0.8200000000000002\tb=0.113, exp(b)=1.120, pval=0.000\n",
      "Optimization terminated successfully.\n",
      "         Current function value: 0.209486\n",
      "         Iterations 7\n",
      "upper0.8400000000000001\tb=0.113, exp(b)=1.120, pval=0.000\n",
      "Optimization terminated successfully.\n",
      "         Current function value: 0.209486\n",
      "         Iterations 7\n",
      "upper0.8600000000000001\tb=0.113, exp(b)=1.120, pval=0.000\n",
      "Optimization terminated successfully.\n",
      "         Current function value: 0.209486\n",
      "         Iterations 7\n",
      "upper0.8800000000000001\tb=0.113, exp(b)=1.120, pval=0.000\n",
      "Optimization terminated successfully.\n",
      "         Current function value: 0.210511\n",
      "         Iterations 7\n",
      "upper0.9000000000000001\tb=0.119, exp(b)=1.126, pval=0.000\n",
      "Optimization terminated successfully.\n",
      "         Current function value: 0.208175\n",
      "         Iterations 7\n",
      "upper0.9200000000000002\tb=0.309, exp(b)=1.362, pval=0.000\n",
      "Optimization terminated successfully.\n",
      "         Current function value: 0.208175\n",
      "         Iterations 7\n",
      "upper0.9400000000000002\tb=0.309, exp(b)=1.362, pval=0.000\n",
      "Optimization terminated successfully.\n",
      "         Current function value: 0.208175\n",
      "         Iterations 7\n",
      "upper0.9600000000000002\tb=0.309, exp(b)=1.362, pval=0.000\n",
      "Optimization terminated successfully.\n",
      "         Current function value: 0.208175\n",
      "         Iterations 7\n",
      "upper0.9800000000000001\tb=0.309, exp(b)=1.362, pval=0.000\n"
     ]
    }
   ],
   "source": [
    "odd_ratios = []\n",
    "for thres in bsr_thresholds:\n",
    "    c = 'upper{}'.format(thres)\n",
    "    model = sm.Logit(df['POD'], df[['intercept', c]])\n",
    "    res = model.fit()\n",
    "    b = res.params[c]\n",
    "    pval = res.pvalues[c]\n",
    "    odd_ratios.append(np.exp(b))\n",
    "    print('{}\\tb={:.3f}, exp(b)={:.3f}, pval={:.3f}'.format(c, b, np.exp(b), pval))"
   ]
  },
  {
   "cell_type": "code",
   "execution_count": 96,
   "id": "02bdb19c-ef94-4b8c-a50b-9ab715a8ee01",
   "metadata": {
    "execution": {
     "iopub.execute_input": "2023-06-26T16:22:24.887036Z",
     "iopub.status.busy": "2023-06-26T16:22:24.886623Z",
     "iopub.status.idle": "2023-06-26T16:22:25.016915Z",
     "shell.execute_reply": "2023-06-26T16:22:25.016304Z",
     "shell.execute_reply.started": "2023-06-26T16:22:24.886992Z"
    },
    "tags": []
   },
   "outputs": [
    {
     "data": {
      "image/png": "[encoded data removed]",
      "text/plain": [
       "<Figure size 432x288 with 1 Axes>"
      ]
     },
     "metadata": {
      "needs_background": "light"
     },
     "output_type": "display_data"
    }
   ],
   "source": [
    "import matplotlib.pyplot as plt\n",
    "\n",
    "plt.plot(bsr_thresholds, odd_ratios)\n",
    "plt.show()"
   ]
  },
  {
   "cell_type": "code",
   "execution_count": 101,
   "id": "4f58d7d5-c006-48d0-b145-1d41e6ab9540",
   "metadata": {
    "execution": {
     "iopub.execute_input": "2023-06-26T16:23:44.234498Z",
     "iopub.status.busy": "2023-06-26T16:23:44.233973Z",
     "iopub.status.idle": "2023-06-26T16:23:44.243166Z",
     "shell.execute_reply": "2023-06-26T16:23:44.242116Z",
     "shell.execute_reply.started": "2023-06-26T16:23:44.234444Z"
    },
    "tags": []
   },
   "outputs": [
    {
     "data": {
      "text/plain": [
       "(array([35, 36, 37, 38, 39, 40, 41, 42, 43, 44]),)"
      ]
     },
     "execution_count": 101,
     "metadata": {},
     "output_type": "execute_result"
    }
   ],
   "source": [
    "np.where(np.array(odd_ratios)>1.1)"
   ]
  },
  {
   "cell_type": "markdown",
   "id": "9a0d8e85-6e83-44a6-b9f2-95eb906862f3",
   "metadata": {},
   "source": [
    "## Univariate logsistic regression"
   ]
  },
  {
   "cell_type": "code",
   "execution_count": 39,
   "id": "435ab43c-525c-445a-b95d-2f40ce5af759",
   "metadata": {
    "execution": {
     "iopub.execute_input": "2023-06-26T11:45:50.141148Z",
     "iopub.status.busy": "2023-06-26T11:45:50.140575Z",
     "iopub.status.idle": "2023-06-26T11:45:50.147022Z",
     "shell.execute_reply": "2023-06-26T11:45:50.145797Z",
     "shell.execute_reply.started": "2023-06-26T11:45:50.141090Z"
    },
    "tags": []
   },
   "outputs": [],
   "source": [
    "ntrain = int(len(cums) * 0.8)\n",
    "ntest = len(cums) - ntrain"
   ]
  },
  {
   "cell_type": "code",
   "execution_count": 42,
   "id": "53ad6d1a-3d7e-49bc-8b6b-a025ea40a1c1",
   "metadata": {
    "execution": {
     "iopub.execute_input": "2023-06-26T11:46:10.064150Z",
     "iopub.status.busy": "2023-06-26T11:46:10.063651Z",
     "iopub.status.idle": "2023-06-26T11:46:10.102756Z",
     "shell.execute_reply": "2023-06-26T11:46:10.101963Z",
     "shell.execute_reply.started": "2023-06-26T11:46:10.064096Z"
    },
    "tags": []
   },
   "outputs": [
    {
     "name": "stdout",
     "output_type": "stream",
     "text": [
      "0.9423236514522821\n"
     ]
    }
   ],
   "source": [
    "from sklearn.linear_model import LogisticRegression\n",
    "\n",
    "\n",
    "model = LogisticRegression()\n",
    "model.fit(cums[:ntrain,0:1], outputs[:ntrain])\n",
    "\n",
    "pred = model.predict(cums[ntrain:,0:1])\n",
    "print(np.mean(pred==outputs[ntrain:]))"
   ]
  },
  {
   "cell_type": "markdown",
   "id": "40088aba-5434-4f60-a9af-9c155a2fa847",
   "metadata": {},
   "source": [
    "### Sampling"
   ]
  },
  {
   "cell_type": "code",
   "execution_count": 55,
   "id": "df3a5078-215f-417a-b903-8d5e177e6153",
   "metadata": {
    "execution": {
     "iopub.execute_input": "2023-06-26T15:48:04.638317Z",
     "iopub.status.busy": "2023-06-26T15:48:04.637845Z",
     "iopub.status.idle": "2023-06-26T15:48:10.028970Z",
     "shell.execute_reply": "2023-06-26T15:48:10.028321Z",
     "shell.execute_reply.started": "2023-06-26T15:48:04.638267Z"
    },
    "tags": []
   },
   "outputs": [
    {
     "data": {
      "text/plain": [
       "[<matplotlib.lines.Line2D at 0x7f2387e337f0>]"
      ]
     },
     "execution_count": 55,
     "metadata": {},
     "output_type": "execute_result"
    },
    {
     "data": {
      "image/png": "[encoded data removed]",
      "text/plain": [
       "<Figure size 432x288 with 1 Axes>"
      ]
     },
     "metadata": {
      "needs_background": "light"
     },
     "output_type": "display_data"
    }
   ],
   "source": [
    "import matplotlib.pyplot as plt\n",
    "\n",
    "caseid = 6\n",
    "mask = np.isin(caseid_list, caseid)\n",
    "    \n",
    "bis = data[mask][:,0]\n",
    "brs = data[mask][:,1]\n",
    "brs = brs[(brs>=0) & (brs<=1)]\n",
    "\n",
    "bis[bis < -100] = np.nan\n",
    "    \n",
    "plt.plot(brs)"
   ]
  },
  {
   "cell_type": "code",
   "execution_count": 52,
   "id": "736cacb6-f591-4d4d-a87e-0e04ca33600c",
   "metadata": {
    "execution": {
     "iopub.execute_input": "2023-06-26T07:58:46.730012Z",
     "iopub.status.busy": "2023-06-26T07:58:46.729446Z",
     "iopub.status.idle": "2023-06-26T07:58:52.082262Z",
     "shell.execute_reply": "2023-06-26T07:58:52.081635Z",
     "shell.execute_reply.started": "2023-06-26T07:58:46.729956Z"
    },
    "tags": []
   },
   "outputs": [
    {
     "data": {
      "text/plain": [
       "[<matplotlib.lines.Line2D at 0x7f534f40e430>]"
      ]
     },
     "execution_count": 52,
     "metadata": {},
     "output_type": "execute_result"
    },
    {
     "data": {
      "image/png": "[encoded data removed]",
      "text/plain": [
       "<Figure size 432x288 with 1 Axes>"
      ]
     },
     "metadata": {
      "needs_background": "light"
     },
     "output_type": "display_data"
    }
   ],
   "source": [
    "caseid = 6\n",
    "mask = np.isin(caseid_list, caseid)\n",
    "    \n",
    "bis = data[mask][:,0]\n",
    "brs = data[mask][:,:]\n",
    "\n",
    "bis[bis < -100] = np.nan\n",
    "    \n",
    "plt.plot(bis)"
   ]
  },
  {
   "cell_type": "code",
   "execution_count": 15,
   "id": "c970e164-305b-4254-9164-ffaca1bc9181",
   "metadata": {
    "execution": {
     "iopub.execute_input": "2023-06-26T06:31:34.539981Z",
     "iopub.status.busy": "2023-06-26T06:31:34.539412Z",
     "iopub.status.idle": "2023-06-26T06:31:39.017966Z",
     "shell.execute_reply": "2023-06-26T06:31:39.017333Z",
     "shell.execute_reply.started": "2023-06-26T06:31:34.539924Z"
    },
    "tags": []
   },
   "outputs": [
    {
     "data": {
      "text/plain": [
       "[<matplotlib.lines.Line2D at 0x7f536cda1250>]"
      ]
     },
     "execution_count": 15,
     "metadata": {},
     "output_type": "execute_result"
    },
    {
     "data": {
      "image/png": "[encoded data removed]",
      "text/plain": [
       "<Figure size 432x288 with 1 Axes>"
      ]
     },
     "metadata": {
      "needs_background": "light"
     },
     "output_type": "display_data"
    }
   ],
   "source": [
    "import matplotlib.pyplot as plt\n",
    "\n",
    "caseid = 33141\n",
    "mask = np.isin(caseid_list, caseid)\n",
    "    \n",
    "tracks = data[mask][:,:2]\n",
    "\n",
    "plt.plot(tracks[:,1])"
   ]
  },
  {
   "cell_type": "code",
   "execution_count": 22,
   "id": "cdad406c-ed53-496d-a039-e06fe2e5e08e",
   "metadata": {
    "execution": {
     "iopub.execute_input": "2023-06-26T06:33:07.921404Z",
     "iopub.status.busy": "2023-06-26T06:33:07.920884Z",
     "iopub.status.idle": "2023-06-26T06:33:07.931312Z",
     "shell.execute_reply": "2023-06-26T06:33:07.930277Z",
     "shell.execute_reply.started": "2023-06-26T06:33:07.921349Z"
    },
    "tags": []
   },
   "outputs": [
    {
     "data": {
      "text/plain": [
       "0.016795279164775308"
      ]
     },
     "execution_count": 22,
     "metadata": {},
     "output_type": "execute_result"
    }
   ],
   "source": [
    "brs = np.array(tracks[:,1], dtype=np.float32)\n",
    "\n",
    "np.mean(np.isnan(brs))"
   ]
  }
 ],
 "metadata": {
  "kernelspec": {
   "display_name": "keras",
   "language": "python",
   "name": "painstudy_keras"
  },
  "language_info": {
   "codemirror_mode": {
    "name": "ipython",
    "version": 3
   },
   "file_extension": ".py",
   "mimetype": "text/x-python",
   "name": "python",
   "nbconvert_exporter": "python",
   "pygments_lexer": "ipython3",
   "version": "3.8.12"
  }
 },
 "nbformat": 4,
 "nbformat_minor": 5
}
